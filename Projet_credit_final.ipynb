{
 "cells": [
  {
   "cell_type": "markdown",
   "metadata": {},
   "source": [
    "# Project on German credit database"
   ]
  },
  {
   "cell_type": "markdown",
   "metadata": {},
   "source": [
    "**Project's issue**: \n",
    "\n",
    "The main idea is to challenge the traditional methods of classification and prediction of default with the\n",
    "machine-learning methods already used in other financial intermediation institutions, especially in\n",
    "startups. The comparison of the methods will be based on the usual performance's metrics. Logistic regression outcomes will be used as benchmark \n",
    "    \n",
    "This project consists in building the best possible score function on a classic Machine-learning\n",
    "database: the German Credit Data database.\n",
    "This database has the distinction of being very small: it represents 1000 loans, 20 variables such as\n",
    "marital status, age, number of credits to date, the amount requested. One of the advantages of this\n",
    "database is that it contains the same type of information used in default risk assessment in most retail\n",
    "banking establishments. However, the defect observation rate is very high (around 30%).\n",
    "\n",
    "the Databasae can be find out using the following link :  http://archive.ics.uci.edu/ml/datasets/statlog+(german+credit+data)\n"
   ]
  },
  {
   "attachments": {
    "image.png": {
     "image/png": "[encoded data removed]"
    }
   },
   "cell_type": "markdown",
   "metadata": {},
   "source": [
    "**Main results**\n",
    "\n",
    "![image.png](attachment:image.png)"
   ]
  },
  {
   "cell_type": "markdown",
   "metadata": {},
   "source": [
    "# Packages"
   ]
  },
  {
   "cell_type": "code",
   "execution_count": 16,
   "metadata": {},
   "outputs": [],
   "source": [
    "import pandas as pd \n",
    "import numpy as np \n",
    "from collections import defaultdict\n",
    "from sklearn.linear_model import LogisticRegression\n",
    "import matplotlib.pyplot as plt\n",
    "from sklearn.model_selection import train_test_split\n",
    "from sklearn.preprocessing import LabelEncoder, StandardScaler\n",
    "from sklearn.model_selection import cross_val_score\n",
    "from sklearn.metrics import accurasscy_score,confusion_matrix,roc_curve,classification_report,auc\n",
    "from sklearn.model_selection import StratifiedKFold\n",
    "import xgboost as xgb\n",
    "from xgboost import XGBClassifier\n",
    "from sklearn import tree\n",
    "import tensorflow as tf \n",
    "import tensorflow.keras as keras \n",
    "from tensorflow.keras.layers import Dense \n",
    "from tensorflow.keras.losses import binary_crossentropy\n",
    "from tensorflow.keras.optimizers import Adam\n",
    "from tensorflow.keras.wrappers.scikit_learn import KerasClassifier\n",
    "from sklearn.model_selection import GridSearchCV\n",
    "from tensorflow.keras import initializers"
   ]
  },
  {
   "cell_type": "markdown",
   "metadata": {},
   "source": [
    "# Load dataset "
   ]
  },
  {
   "cell_type": "code",
   "execution_count": 2,
   "metadata": {},
   "outputs": [
    {
     "data": {
      "text/html": [
       "<div>\n",
       "<style scoped>\n",
       "    .dataframe tbody tr th:only-of-type {\n",
       "        vertical-align: middle;\n",
       "    }\n",
       "\n",
       "    .dataframe tbody tr th {\n",
       "        vertical-align: top;\n",
       "    }\n",
       "\n",
       "    .dataframe thead th {\n",
       "        text-align: right;\n",
       "    }\n",
       "</style>\n",
       "<table border=\"1\" class=\"dataframe\">\n",
       "  <thead>\n",
       "    <tr style=\"text-align: right;\">\n",
       "      <th></th>\n",
       "      <th>existingchecking</th>\n",
       "      <th>duration</th>\n",
       "      <th>credithistory</th>\n",
       "      <th>purpose</th>\n",
       "      <th>creditamount</th>\n",
       "      <th>savings</th>\n",
       "      <th>employmentsince</th>\n",
       "      <th>installmentrate</th>\n",
       "      <th>statussex</th>\n",
       "      <th>otherdebtors</th>\n",
       "      <th>...</th>\n",
       "      <th>property</th>\n",
       "      <th>age</th>\n",
       "      <th>otherinstallmentplans</th>\n",
       "      <th>housing</th>\n",
       "      <th>existingcredits</th>\n",
       "      <th>job</th>\n",
       "      <th>peopleliable</th>\n",
       "      <th>telephone</th>\n",
       "      <th>foreignworker</th>\n",
       "      <th>classification</th>\n",
       "    </tr>\n",
       "  </thead>\n",
       "  <tbody>\n",
       "    <tr>\n",
       "      <td>0</td>\n",
       "      <td>A11</td>\n",
       "      <td>6</td>\n",
       "      <td>A34</td>\n",
       "      <td>A43</td>\n",
       "      <td>1169</td>\n",
       "      <td>A65</td>\n",
       "      <td>A75</td>\n",
       "      <td>4</td>\n",
       "      <td>A93</td>\n",
       "      <td>A101</td>\n",
       "      <td>...</td>\n",
       "      <td>A121</td>\n",
       "      <td>67</td>\n",
       "      <td>A143</td>\n",
       "      <td>A152</td>\n",
       "      <td>2</td>\n",
       "      <td>A173</td>\n",
       "      <td>1</td>\n",
       "      <td>A192</td>\n",
       "      <td>A201</td>\n",
       "      <td>1</td>\n",
       "    </tr>\n",
       "    <tr>\n",
       "      <td>1</td>\n",
       "      <td>A12</td>\n",
       "      <td>48</td>\n",
       "      <td>A32</td>\n",
       "      <td>A43</td>\n",
       "      <td>5951</td>\n",
       "      <td>A61</td>\n",
       "      <td>A73</td>\n",
       "      <td>2</td>\n",
       "      <td>A92</td>\n",
       "      <td>A101</td>\n",
       "      <td>...</td>\n",
       "      <td>A121</td>\n",
       "      <td>22</td>\n",
       "      <td>A143</td>\n",
       "      <td>A152</td>\n",
       "      <td>1</td>\n",
       "      <td>A173</td>\n",
       "      <td>1</td>\n",
       "      <td>A191</td>\n",
       "      <td>A201</td>\n",
       "      <td>2</td>\n",
       "    </tr>\n",
       "    <tr>\n",
       "      <td>2</td>\n",
       "      <td>A14</td>\n",
       "      <td>12</td>\n",
       "      <td>A34</td>\n",
       "      <td>A46</td>\n",
       "      <td>2096</td>\n",
       "      <td>A61</td>\n",
       "      <td>A74</td>\n",
       "      <td>2</td>\n",
       "      <td>A93</td>\n",
       "      <td>A101</td>\n",
       "      <td>...</td>\n",
       "      <td>A121</td>\n",
       "      <td>49</td>\n",
       "      <td>A143</td>\n",
       "      <td>A152</td>\n",
       "      <td>1</td>\n",
       "      <td>A172</td>\n",
       "      <td>2</td>\n",
       "      <td>A191</td>\n",
       "      <td>A201</td>\n",
       "      <td>1</td>\n",
       "    </tr>\n",
       "    <tr>\n",
       "      <td>3</td>\n",
       "      <td>A11</td>\n",
       "      <td>42</td>\n",
       "      <td>A32</td>\n",
       "      <td>A42</td>\n",
       "      <td>7882</td>\n",
       "      <td>A61</td>\n",
       "      <td>A74</td>\n",
       "      <td>2</td>\n",
       "      <td>A93</td>\n",
       "      <td>A103</td>\n",
       "      <td>...</td>\n",
       "      <td>A122</td>\n",
       "      <td>45</td>\n",
       "      <td>A143</td>\n",
       "      <td>A153</td>\n",
       "      <td>1</td>\n",
       "      <td>A173</td>\n",
       "      <td>2</td>\n",
       "      <td>A191</td>\n",
       "      <td>A201</td>\n",
       "      <td>1</td>\n",
       "    </tr>\n",
       "    <tr>\n",
       "      <td>4</td>\n",
       "      <td>A11</td>\n",
       "      <td>24</td>\n",
       "      <td>A33</td>\n",
       "      <td>A40</td>\n",
       "      <td>4870</td>\n",
       "      <td>A61</td>\n",
       "      <td>A73</td>\n",
       "      <td>3</td>\n",
       "      <td>A93</td>\n",
       "      <td>A101</td>\n",
       "      <td>...</td>\n",
       "      <td>A124</td>\n",
       "      <td>53</td>\n",
       "      <td>A143</td>\n",
       "      <td>A153</td>\n",
       "      <td>2</td>\n",
       "      <td>A173</td>\n",
       "      <td>2</td>\n",
       "      <td>A191</td>\n",
       "      <td>A201</td>\n",
       "      <td>2</td>\n",
       "    </tr>\n",
       "  </tbody>\n",
       "</table>\n",
       "<p>5 rows × 21 columns</p>\n",
       "</div>"
      ],
      "text/plain": [
       "  existingchecking  duration credithistory purpose  creditamount savings  \\\n",
       "0              A11         6           A34     A43          1169     A65   \n",
       "1              A12        48           A32     A43          5951     A61   \n",
       "2              A14        12           A34     A46          2096     A61   \n",
       "3              A11        42           A32     A42          7882     A61   \n",
       "4              A11        24           A33     A40          4870     A61   \n",
       "\n",
       "  employmentsince  installmentrate statussex otherdebtors  ...  property age  \\\n",
       "0             A75                4       A93         A101  ...      A121  67   \n",
       "1             A73                2       A92         A101  ...      A121  22   \n",
       "2             A74                2       A93         A101  ...      A121  49   \n",
       "3             A74                2       A93         A103  ...      A122  45   \n",
       "4             A73                3       A93         A101  ...      A124  53   \n",
       "\n",
       "   otherinstallmentplans housing existingcredits   job peopleliable  \\\n",
       "0                   A143    A152               2  A173            1   \n",
       "1                   A143    A152               1  A173            1   \n",
       "2                   A143    A152               1  A172            2   \n",
       "3                   A143    A153               1  A173            2   \n",
       "4                   A143    A153               2  A173            2   \n",
       "\n",
       "   telephone foreignworker classification  \n",
       "0       A192          A201              1  \n",
       "1       A191          A201              2  \n",
       "2       A191          A201              1  \n",
       "3       A191          A201              1  \n",
       "4       A191          A201              2  \n",
       "\n",
       "[5 rows x 21 columns]"
      ]
     },
     "execution_count": 2,
     "metadata": {},
     "output_type": "execute_result"
    }
   ],
   "source": [
    "names = ['existingchecking', 'duration', 'credithistory', 'purpose', 'creditamount', \n",
    "         'savings', 'employmentsince', 'installmentrate', 'statussex', 'otherdebtors', \n",
    "         'residencesince', 'property', 'age', 'otherinstallmentplans', 'housing', \n",
    "         'existingcredits', 'job', 'peopleliable', 'telephone', 'foreignworker', 'classification']\n",
    "file = r'D:\\sklearn\\german.data'\n",
    "df = pd.read_csv(file,names = names, delimiter = ' ')\n",
    "df.head()"
   ]
  },
  {
   "cell_type": "code",
   "execution_count": 3,
   "metadata": {},
   "outputs": [
    {
     "data": {
      "text/html": [
       "<div>\n",
       "<style scoped>\n",
       "    .dataframe tbody tr th:only-of-type {\n",
       "        vertical-align: middle;\n",
       "    }\n",
       "\n",
       "    .dataframe tbody tr th {\n",
       "        vertical-align: top;\n",
       "    }\n",
       "\n",
       "    .dataframe thead th {\n",
       "        text-align: right;\n",
       "    }\n",
       "</style>\n",
       "<table border=\"1\" class=\"dataframe\">\n",
       "  <thead>\n",
       "    <tr style=\"text-align: right;\">\n",
       "      <th></th>\n",
       "      <th>duration</th>\n",
       "      <th>creditamount</th>\n",
       "      <th>installmentrate</th>\n",
       "      <th>residencesince</th>\n",
       "      <th>age</th>\n",
       "      <th>existingcredits</th>\n",
       "      <th>peopleliable</th>\n",
       "      <th>classification</th>\n",
       "    </tr>\n",
       "  </thead>\n",
       "  <tbody>\n",
       "    <tr>\n",
       "      <td>count</td>\n",
       "      <td>1000.000000</td>\n",
       "      <td>1000.000000</td>\n",
       "      <td>1000.000000</td>\n",
       "      <td>1000.000000</td>\n",
       "      <td>1000.000000</td>\n",
       "      <td>1000.000000</td>\n",
       "      <td>1000.000000</td>\n",
       "      <td>1000.000000</td>\n",
       "    </tr>\n",
       "    <tr>\n",
       "      <td>mean</td>\n",
       "      <td>20.903000</td>\n",
       "      <td>3271.258000</td>\n",
       "      <td>2.973000</td>\n",
       "      <td>2.845000</td>\n",
       "      <td>35.546000</td>\n",
       "      <td>1.407000</td>\n",
       "      <td>1.155000</td>\n",
       "      <td>1.300000</td>\n",
       "    </tr>\n",
       "    <tr>\n",
       "      <td>std</td>\n",
       "      <td>12.058814</td>\n",
       "      <td>2822.736876</td>\n",
       "      <td>1.118715</td>\n",
       "      <td>1.103718</td>\n",
       "      <td>11.375469</td>\n",
       "      <td>0.577654</td>\n",
       "      <td>0.362086</td>\n",
       "      <td>0.458487</td>\n",
       "    </tr>\n",
       "    <tr>\n",
       "      <td>min</td>\n",
       "      <td>4.000000</td>\n",
       "      <td>250.000000</td>\n",
       "      <td>1.000000</td>\n",
       "      <td>1.000000</td>\n",
       "      <td>19.000000</td>\n",
       "      <td>1.000000</td>\n",
       "      <td>1.000000</td>\n",
       "      <td>1.000000</td>\n",
       "    </tr>\n",
       "    <tr>\n",
       "      <td>25%</td>\n",
       "      <td>12.000000</td>\n",
       "      <td>1365.500000</td>\n",
       "      <td>2.000000</td>\n",
       "      <td>2.000000</td>\n",
       "      <td>27.000000</td>\n",
       "      <td>1.000000</td>\n",
       "      <td>1.000000</td>\n",
       "      <td>1.000000</td>\n",
       "    </tr>\n",
       "    <tr>\n",
       "      <td>50%</td>\n",
       "      <td>18.000000</td>\n",
       "      <td>2319.500000</td>\n",
       "      <td>3.000000</td>\n",
       "      <td>3.000000</td>\n",
       "      <td>33.000000</td>\n",
       "      <td>1.000000</td>\n",
       "      <td>1.000000</td>\n",
       "      <td>1.000000</td>\n",
       "    </tr>\n",
       "    <tr>\n",
       "      <td>75%</td>\n",
       "      <td>24.000000</td>\n",
       "      <td>3972.250000</td>\n",
       "      <td>4.000000</td>\n",
       "      <td>4.000000</td>\n",
       "      <td>42.000000</td>\n",
       "      <td>2.000000</td>\n",
       "      <td>1.000000</td>\n",
       "      <td>2.000000</td>\n",
       "    </tr>\n",
       "    <tr>\n",
       "      <td>max</td>\n",
       "      <td>72.000000</td>\n",
       "      <td>18424.000000</td>\n",
       "      <td>4.000000</td>\n",
       "      <td>4.000000</td>\n",
       "      <td>75.000000</td>\n",
       "      <td>4.000000</td>\n",
       "      <td>2.000000</td>\n",
       "      <td>2.000000</td>\n",
       "    </tr>\n",
       "  </tbody>\n",
       "</table>\n",
       "</div>"
      ],
      "text/plain": [
       "          duration  creditamount  installmentrate  residencesince  \\\n",
       "count  1000.000000   1000.000000      1000.000000     1000.000000   \n",
       "mean     20.903000   3271.258000         2.973000        2.845000   \n",
       "std      12.058814   2822.736876         1.118715        1.103718   \n",
       "min       4.000000    250.000000         1.000000        1.000000   \n",
       "25%      12.000000   1365.500000         2.000000        2.000000   \n",
       "50%      18.000000   2319.500000         3.000000        3.000000   \n",
       "75%      24.000000   3972.250000         4.000000        4.000000   \n",
       "max      72.000000  18424.000000         4.000000        4.000000   \n",
       "\n",
       "               age  existingcredits  peopleliable  classification  \n",
       "count  1000.000000      1000.000000   1000.000000     1000.000000  \n",
       "mean     35.546000         1.407000      1.155000        1.300000  \n",
       "std      11.375469         0.577654      0.362086        0.458487  \n",
       "min      19.000000         1.000000      1.000000        1.000000  \n",
       "25%      27.000000         1.000000      1.000000        1.000000  \n",
       "50%      33.000000         1.000000      1.000000        1.000000  \n",
       "75%      42.000000         2.000000      1.000000        2.000000  \n",
       "max      75.000000         4.000000      2.000000        2.000000  "
      ]
     },
     "execution_count": 3,
     "metadata": {},
     "output_type": "execute_result"
    }
   ],
   "source": [
    "df.describe()"
   ]
  },
  {
   "cell_type": "code",
   "execution_count": 4,
   "metadata": {},
   "outputs": [
    {
     "name": "stdout",
     "output_type": "stream",
     "text": [
      "Data set shape (1000, 21)\n"
     ]
    }
   ],
   "source": [
    "print(\"Data set shape\", df.shape)"
   ]
  },
  {
   "cell_type": "markdown",
   "metadata": {},
   "source": [
    "# Data cleaning "
   ]
  },
  {
   "cell_type": "code",
   "execution_count": 5,
   "metadata": {},
   "outputs": [
    {
     "data": {
      "text/plain": [
       "1    700\n",
       "0    300\n",
       "Name: classification, dtype: int64"
      ]
     },
     "execution_count": 5,
     "metadata": {},
     "output_type": "execute_result"
    }
   ],
   "source": [
    "# classification variable transformation -> 0 = 'bad' credit; 1 = 'good' credit\n",
    "df.classification.replace([1,2], [1,0], inplace=True)\n",
    "# Nombre de 'good' credits  and 'bad credits\n",
    "df.classification.value_counts()"
   ]
  },
  {
   "cell_type": "code",
   "execution_count": 6,
   "metadata": {},
   "outputs": [],
   "source": [
    "#numerical labels\n",
    "numvars = ['creditamount', 'duration', 'installmentrate', 'residencesince', 'age', \n",
    "           'existingcredits', 'peopleliable', 'classification']\n",
    "\n",
    "#categorical labels \n",
    "catvars = ['existingchecking', 'credithistory', 'purpose', 'savings', 'employmentsince',\n",
    "           'statussex', 'otherdebtors', 'property', 'otherinstallmentplans', 'housing', 'job', \n",
    "           'telephone', 'foreignworker'] "
   ]
  },
  {
   "cell_type": "code",
   "execution_count": 7,
   "metadata": {},
   "outputs": [],
   "source": [
    "#standardization of num labels\n",
    "numdata_std = pd.DataFrame(StandardScaler().fit_transform(df[numvars].drop(['classification'], axis=1)))"
   ]
  },
  {
   "cell_type": "code",
   "execution_count": 8,
   "metadata": {
    "scrolled": true
   },
   "outputs": [
    {
     "name": "stdout",
     "output_type": "stream",
     "text": [
      "existingchecking :  ['A11' 'A12' 'A14' 'A13']\n",
      "existingchecking :  [0 1 3 2]\n",
      "credithistory :  ['A34' 'A32' 'A33' 'A30' 'A31']\n",
      "credithistory :  [4 2 3 0 1]\n",
      "purpose :  ['A43' 'A46' 'A42' 'A40' 'A41' 'A49' 'A44' 'A45' 'A410' 'A48']\n",
      "purpose :  [4 7 3 0 1 9 5 6 2 8]\n",
      "savings :  ['A65' 'A61' 'A63' 'A64' 'A62']\n",
      "savings :  [4 0 2 3 1]\n",
      "employmentsince :  ['A75' 'A73' 'A74' 'A71' 'A72']\n",
      "employmentsince :  [4 2 3 0 1]\n",
      "statussex :  ['A93' 'A92' 'A91' 'A94']\n",
      "statussex :  [2 1 0 3]\n",
      "otherdebtors :  ['A101' 'A103' 'A102']\n",
      "otherdebtors :  [0 2 1]\n",
      "property :  ['A121' 'A122' 'A124' 'A123']\n",
      "property :  [0 1 3 2]\n",
      "otherinstallmentplans :  ['A143' 'A141' 'A142']\n",
      "otherinstallmentplans :  [2 0 1]\n",
      "housing :  ['A152' 'A153' 'A151']\n",
      "housing :  [1 2 0]\n",
      "job :  ['A173' 'A172' 'A174' 'A171']\n",
      "job :  [2 1 3 0]\n",
      "telephone :  ['A192' 'A191']\n",
      "telephone :  [1 0]\n",
      "foreignworker :  ['A201' 'A202']\n",
      "foreignworker :  [0 1]\n"
     ]
    }
   ],
   "source": [
    "#categorical codification\n",
    "d = defaultdict(LabelEncoder)\n",
    "lecatdf = df[catvars].apply(lambda x: d[x.name].fit_transform(x))\n",
    "\n",
    "# print transformations\n",
    "for x in range(len(catvars)):\n",
    "    print(catvars[x],\": \", df[catvars[x]].unique())\n",
    "    print(catvars[x],\": \", lecatdf[catvars[x]].unique())"
   ]
  },
  {
   "cell_type": "code",
   "execution_count": 9,
   "metadata": {},
   "outputs": [],
   "source": [
    "#One hot encoding, num_var turned into binary variable\n",
    "dummyvars = pd.get_dummies(df[catvars])"
   ]
  },
  {
   "cell_type": "code",
   "execution_count": 10,
   "metadata": {
    "scrolled": true
   },
   "outputs": [
    {
     "name": "stdout",
     "output_type": "stream",
     "text": [
      "German credit clean dataset    creditamount  duration  installmentrate  residencesince  age  \\\n",
      "0          1169         6                4               4   67   \n",
      "1          5951        48                2               2   22   \n",
      "2          2096        12                2               3   49   \n",
      "3          7882        42                2               4   45   \n",
      "4          4870        24                3               4   53   \n",
      "\n",
      "   existingcredits  peopleliable  classification  existingchecking_A11  \\\n",
      "0                2             1               1                     1   \n",
      "1                1             1               0                     0   \n",
      "2                1             2               1                     0   \n",
      "3                1             2               1                     1   \n",
      "4                2             2               0                     1   \n",
      "\n",
      "   existingchecking_A12  ...  housing_A152  housing_A153  job_A171  job_A172  \\\n",
      "0                     0  ...             1             0         0         0   \n",
      "1                     1  ...             1             0         0         0   \n",
      "2                     0  ...             1             0         0         1   \n",
      "3                     0  ...             0             1         0         0   \n",
      "4                     0  ...             0             1         0         0   \n",
      "\n",
      "   job_A173  job_A174  telephone_A191  telephone_A192  foreignworker_A201  \\\n",
      "0         1         0               0               1                   1   \n",
      "1         1         0               1               0                   1   \n",
      "2         0         0               1               0                   1   \n",
      "3         1         0               1               0                   1   \n",
      "4         1         0               1               0                   1   \n",
      "\n",
      "   foreignworker_A202  \n",
      "0                   0  \n",
      "1                   0  \n",
      "2                   0  \n",
      "3                   0  \n",
      "4                   0  \n",
      "\n",
      "[5 rows x 62 columns]\n",
      "Clean dataset set shape (1000, 62)\n"
     ]
    }
   ],
   "source": [
    "#clean databse \n",
    "data_clean = pd.concat([df[numvars], dummyvars], axis = 1)\n",
    "print(\"German credit clean dataset\", data_clean.head())\n",
    "print(\"Clean dataset set shape\", data_clean.shape )"
   ]
  },
  {
   "cell_type": "markdown",
   "metadata": {},
   "source": [
    "# Train and test dataset"
   ]
  },
  {
   "cell_type": "code",
   "execution_count": 11,
   "metadata": {},
   "outputs": [
    {
     "name": "stdout",
     "output_type": "stream",
     "text": [
      "x_train (750, 61)\n",
      "x_test (250, 61)\n",
      "y_train (750,)\n",
      "y_test (250,)\n"
     ]
    },
    {
     "data": {
      "text/plain": [
       "1    524\n",
       "0    226\n",
       "Name: classification, dtype: int64"
      ]
     },
     "execution_count": 11,
     "metadata": {},
     "output_type": "execute_result"
    }
   ],
   "source": [
    "#Train set validation set \n",
    "x= data_clean.drop('classification', axis=1)\n",
    "y = data_clean['classification']\n",
    "x_train,x_test,y_train,y_test = train_test_split(x,y,test_size=0.25,random_state=0)\n",
    "print(\"x_train\", x_train.shape)\n",
    "print(\"x_test\", x_test.shape)\n",
    "print(\"y_train\", y_train.shape)\n",
    "print(\"y_test\", y_test.shape)\n",
    "y_test.value_counts()\n",
    "y_train.value_counts()"
   ]
  },
  {
   "cell_type": "markdown",
   "metadata": {},
   "source": [
    "# Classification algorithms"
   ]
  },
  {
   "cell_type": "markdown",
   "metadata": {},
   "source": [
    "# Functions"
   ]
  },
  {
   "cell_type": "code",
   "execution_count": 12,
   "metadata": {},
   "outputs": [],
   "source": [
    " #2 folds CV Evaluation fuuction\n",
    "def evaluation(model,X,Y):\n",
    "    # Cross Validation to test and anticipate overfitting problem\n",
    "    scores1 = cross_val_score(model, X, Y, cv=2, scoring='accuracy')\n",
    "    scores2 = cross_val_score(model, X, Y, cv=2, scoring='precision')\n",
    "    scores3 = cross_val_score(model, X, Y, cv=2, scoring='recall')\n",
    "    scores4 = cross_val_score(model, X, Y, cv=2, scoring='roc_auc')\n",
    "    # The mean score and standard deviation of the score estimate\n",
    "    print(\"Cross Validation Accuracy: %0.2f (+/- %0.2f)\" % (scores1.mean(), scores1.std()))\n",
    "    print(\"Cross Validation Precision: %0.2f (+/- %0.2f)\" % (scores2.mean(), scores2.std()))\n",
    "    print(\"Cross Validation Recall: %0.2f (+/- %0.2f)\" % (scores3.mean(), scores3.std()))\n",
    "    print(\"Cross Validation roc_auc: %0.2f (+/- %0.2f)\" % (scores4.mean(), scores4.std()))\n",
    "    return  "
   ]
  },
  {
   "cell_type": "code",
   "execution_count": 13,
   "metadata": {},
   "outputs": [],
   "source": [
    "def compute_roc(y_true, y_pred, plot=True):\n",
    "    fpr = dict()\n",
    "    tpr = dict()\n",
    "    auc_score = dict()\n",
    "    fpr, tpr, _ = roc_curve(y_true, y_pred)\n",
    "    auc_score = auc(fpr, tpr)\n",
    "    if plot:\n",
    "        plt.figure(figsize=(7, 6))\n",
    "        plt.plot(fpr, tpr, color='blue',\n",
    "                 label='ROC curve (area = %0.2f)' % auc_score)\n",
    "        plt.plot([0, 1], [0, 1], color='navy', lw=3, linestyle='--')\n",
    "        plt.legend(loc=\"upper right\")\n",
    "        plt.xlim([0.0, 1.0])\n",
    "        plt.ylim([0.0, 1.0])\n",
    "        plt.title(\"ROC Curve\")\n",
    "        plt.xlabel('False Positive Rate')\n",
    "        plt.ylabel('True Positive Rate')\n",
    "        plt.title('Receiver operating characteristic')\n",
    "        plt.show()\n",
    "    return fpr, tpr, auc_score"
   ]
  },
  {
   "cell_type": "code",
   "execution_count": 68,
   "metadata": {},
   "outputs": [],
   "source": [
    "#Baseline mlp model \n",
    "def mlp_model(init,learning_rate):   \n",
    "    \n",
    "    # Model initialisation and layers specification\n",
    "    model = tf.keras.Sequential()\n",
    "    model.add(Dense(61,input_dim=61,kernel_initializer=init, activation = 'relu'))\n",
    "    model.add(Dense(1,kernel_initializer=init, activation='sigmoid'))\n",
    "    \n",
    "    # Initialisation of the optimizer\n",
    "    adam = keras.optimizers.Adam(learning_rate=learning_rate)\n",
    "    \n",
    "    # Compile model \n",
    "    model.compile(loss=binary_crossentropy, optimizer=adam, metrics=['accuracy']) \n",
    "    return model\n",
    "\n",
    "# Gradient boosting model\n",
    "def xgboost(params, X_train, y_train,X_test, y_test):\n",
    "    print('XGBoost v',xgb.__version__)\n",
    "    eval_set=[(X_train, y_train), (X_test, y_test)]\n",
    "    \n",
    "    model = XGBClassifier(**params).\\\n",
    "      fit(X_train, y_train, eval_set=eval_set, \\\n",
    "                  eval_metric='auc', early_stopping_rounds = 100, verbose=100)\n",
    "        \n",
    "    print(model.best_ntree_limit)\n",
    "\n",
    "    model.set_params(**{'n_estimators': model.best_ntree_limit})\n",
    "    model.fit(X_train, y_train)\n",
    "    print(model,'\\n')\n",
    "    \n",
    "    # Predict target variables y for test data\n",
    "    y_pred = model.predict(X_test, ntree_limit=model.best_ntree_limit) \n",
    "    print(y_pred)\n",
    "   \n",
    "    #Get Cross Validation and Confusion matrix\n",
    "    evaluation(model, X_train, y_train)\n",
    "    \n",
    "    \n",
    "    # Create and print confusion matrix    \n",
    "    cfm = confusion_matrix(y_test,y_pred)\n",
    "    print(cfm)\n",
    "    \n",
    "    print (classification_report(y_test,y_pred) )\n",
    "    print ('\\n')\n",
    "    print (\"XGBoost model Accuracy: %.6f\" %accuracy_score(y_test,y_pred) )\n",
    "    \n",
    "    # ROC Curve\n",
    "    print(\"ROC curve\")\n",
    "    compute_roc(y_test, y_pred, plot=True)\n",
    "    \n",
    "    return model\n",
    "\n",
    "\n",
    "\n",
    "# fit, train and cross validate Logisitc regression with training and test data \n",
    "def logreg(X_train, y_train,X_test, y_test):\n",
    "    print(\"LogisticRegression\")\n",
    "    model = LogisticRegression().fit(X_train, y_train)\n",
    "    print(model,'\\n')\n",
    "    \n",
    "    # Predict target variables y for test data\n",
    "    y_pred = model.predict(X_test)\n",
    "    \n",
    "    print (classification_report(y_test,y_pred) )\n",
    "    \n",
    "    # Create and print confusion matrix \n",
    "    print(\"confusion matrix\")\n",
    "    cfm = confusion_matrix(y_test,y_pred)\n",
    "    print(cfm)\n",
    "    \n",
    "    print (\"Logistic model Accuracy: %.6f\" %accuracy_score(y_test,y_pred) )\n",
    "    \n",
    "    # Create and print confusion matrix\n",
    "    print(\"ROC curve\")\n",
    "    compute_roc(y_test, y_pred, plot=True)\n",
    "    \n",
    "    # Get Cross Validation and Confusion matrix on the test dataset\n",
    "    evaluation(model, x_test, y_test)\n",
    "    return "
   ]
  },
  {
   "cell_type": "markdown",
   "metadata": {},
   "source": [
    "# Tunning Hyperparameters with Gridsearch"
   ]
  },
  {
   "cell_type": "code",
   "execution_count": 51,
   "metadata": {},
   "outputs": [
    {
     "name": "stdout",
     "output_type": "stream",
     "text": [
      "MLP with grid search\n"
     ]
    },
    {
     "name": "stderr",
     "output_type": "stream",
     "text": [
      "C:\\ProgramData\\Anaconda3\\lib\\site-packages\\sklearn\\model_selection\\_split.py:1978: FutureWarning: The default value of cv will change from 3 to 5 in version 0.22. Specify it explicitly to silence this warning.\n",
      "  warnings.warn(CV_WARNING, FutureWarning)\n"
     ]
    }
   ],
   "source": [
    "print('MLP with grid search')\n",
    "# Model creation with keras wrapper\n",
    "estimator = KerasClassifier(build_fn=mlp_model,verbose=0)\n",
    "\n",
    "# grid search epochs, batch size, learning_rate, initialiazer\n",
    "batches = [100]\n",
    "lr = [ 0.01, 0.001]\n",
    "init = ['normal', 'uniform','glorot_uniform']\n",
    "epochs = [10, 15]\n",
    "param_grid = dict(epochs=epochs, learning_rate=lr, batch_size = batches, init = init)\n",
    "grid = GridSearchCV(estimator, param_grid=param_grid,\n",
    "                    return_train_score=False,\n",
    "                    scoring='roc_auc',\n",
    "                    verbose=False)\n",
    "\n",
    "grid_result = grid.fit(x_train, y_train)"
   ]
  },
  {
   "cell_type": "code",
   "execution_count": 60,
   "metadata": {},
   "outputs": [
    {
     "name": "stdout",
     "output_type": "stream",
     "text": [
      "Best: 0.636286 using {'batch_size': 100, 'epochs': 15, 'init': 'normal', 'learning_rate': 0.01}\n",
      "0.587585 (0.037005) with: {'batch_size': 100, 'epochs': 10, 'init': 'normal', 'learning_rate': 0.01}\n",
      "0.593503 (0.017149) with: {'batch_size': 100, 'epochs': 10, 'init': 'normal', 'learning_rate': 0.001}\n",
      "0.500882 (0.001248) with: {'batch_size': 100, 'epochs': 10, 'init': 'uniform', 'learning_rate': 0.01}\n",
      "0.555291 (0.051186) with: {'batch_size': 100, 'epochs': 10, 'init': 'uniform', 'learning_rate': 0.001}\n",
      "0.548705 (0.035884) with: {'batch_size': 100, 'epochs': 10, 'init': 'glorot_uniform', 'learning_rate': 0.01}\n",
      "0.479649 (0.029552) with: {'batch_size': 100, 'epochs': 10, 'init': 'glorot_uniform', 'learning_rate': 0.001}\n",
      "0.636286 (0.061967) with: {'batch_size': 100, 'epochs': 15, 'init': 'normal', 'learning_rate': 0.01}\n",
      "0.583906 (0.042502) with: {'batch_size': 100, 'epochs': 15, 'init': 'normal', 'learning_rate': 0.001}\n",
      "0.472264 (0.007255) with: {'batch_size': 100, 'epochs': 15, 'init': 'uniform', 'learning_rate': 0.01}\n",
      "0.598312 (0.039432) with: {'batch_size': 100, 'epochs': 15, 'init': 'uniform', 'learning_rate': 0.001}\n",
      "0.602093 (0.082883) with: {'batch_size': 100, 'epochs': 15, 'init': 'glorot_uniform', 'learning_rate': 0.01}\n",
      "0.632136 (0.035516) with: {'batch_size': 100, 'epochs': 15, 'init': 'glorot_uniform', 'learning_rate': 0.001}\n"
     ]
    }
   ],
   "source": [
    "# summarize results\n",
    "print(\"Best: %f using %s\" % (grid_result.best_score_, grid_result.best_params_))\n",
    "means = grid_result.cv_results_['mean_test_score']\n",
    "stds = grid_result.cv_results_['std_test_score']\n",
    "params = grid_result.cv_results_['params']\n",
    "for mean, stdev, param in zip(means, stds, params):\n",
    "    print(\"%f (%f) with: %r\" % (mean, stdev, param))"
   ]
  },
  {
   "cell_type": "code",
   "execution_count": 31,
   "metadata": {},
   "outputs": [
    {
     "name": "stdout",
     "output_type": "stream",
     "text": [
      "Decision tree with Classifier\n",
      "DecisionTreeClassifier(class_weight=None, criterion='gini', max_depth=3,\n",
      "                       max_features=None, max_leaf_nodes=None,\n",
      "                       min_impurity_decrease=0.0, min_impurity_split=None,\n",
      "                       min_samples_leaf=1, min_samples_split=2,\n",
      "                       min_weight_fraction_leaf=0.0, presort=False,\n",
      "                       random_state=None, splitter='best')\n",
      "0.7066666666666667\n",
      "Best: 0.706667 using {'max_depth': 3}\n",
      "0.700000 (0.001333) with: {'max_depth': 2}\n",
      "0.706667 (0.013333) with: {'max_depth': 3}\n",
      "0.688000 (0.013333) with: {'max_depth': 4}\n",
      "0.664000 (0.037333) with: {'max_depth': 5}\n",
      "0.700000 (0.004000) with: {'max_depth': 6}\n",
      "0.684000 (0.014667) with: {'max_depth': 7}\n",
      "0.677333 (0.016000) with: {'max_depth': 8}\n",
      "0.680000 (0.013333) with: {'max_depth': 9}\n",
      "0.676000 (0.001333) with: {'max_depth': 10}\n",
      "0.684000 (0.004000) with: {'max_depth': 11}\n",
      "0.677333 (0.002667) with: {'max_depth': 12}\n",
      "0.696000 (0.000000) with: {'max_depth': 13}\n",
      "0.677333 (0.010667) with: {'max_depth': 14}\n"
     ]
    }
   ],
   "source": [
    "#Tunning Decision tree model  With Gridsearch\n",
    "print('Decision tree with Classifier')\n",
    "params={'max_depth': np.arange(2, 15)}\n",
    "tree_estimator = tree.DecisionTreeClassifier()\n",
    "\n",
    "grid_tree = GridSearchCV(tree_estimator, params, cv=2, scoring=\"accuracy\",\n",
    "                         n_jobs=1,\n",
    "                         verbose=False)\n",
    "\n",
    "grid_tree.fit(x_train, y_train)\n",
    "best_est = grid_tree.best_estimator_\n",
    "print(best_est)\n",
    "print(grid_tree.best_score_)\n",
    "\n",
    "\n",
    "# summarize results\n",
    "print(\"Best: %f using %s\" % (grid_tree.best_score_, grid_tree.best_params_))\n",
    "means = grid_tree.cv_results_['mean_test_score']\n",
    "stds = grid_tree.cv_results_['std_test_score']\n",
    "params = grid_tree.cv_results_['params']\n",
    "for mean, stdev, param in zip(means, stds, params):\n",
    "    print(\"%f (%f) with: %r\" % (mean, stdev, param))"
   ]
  },
  {
   "cell_type": "code",
   "execution_count": 79,
   "metadata": {},
   "outputs": [
    {
     "name": "stdout",
     "output_type": "stream",
     "text": [
      "XGBoost with grid search\n",
      "XGBClassifier(base_score=0.5, booster=None, colsample_bylevel=1,\n",
      "              colsample_bynode=1, colsample_bytree=1, gamma=0, gpu_id=-1,\n",
      "              importance_type='gain', interaction_constraints=None,\n",
      "              learning_rate=0.01, max_delta_step=0, max_depth=3,\n",
      "              min_child_weight=1, missing=nan, monotone_constraints=None,\n",
      "              n_estimators=500, n_jobs=0, num_parallel_tree=1,\n",
      "              objective='binary:logistic', random_state=0, reg_alpha=0,\n",
      "              reg_lambda=1, scale_pos_weight=1, subsample=1, tree_method=None,\n",
      "              validate_parameters=False, verbosity=None)\n",
      "0.7710008106464905\n",
      "Roc AUC with test data of Gridsearch best estimator\n",
      "0.7645116707616708\n",
      "Cross validation of Gridsearch best estimator\n",
      "Cross Validation Accuracy: 0.73 (+/- 0.00)\n",
      "Cross Validation Precision: 0.78 (+/- 0.01)\n",
      "Cross Validation Recall: 0.85 (+/- 0.01)\n",
      "Cross Validation roc_auc: 0.76 (+/- 0.04)\n"
     ]
    }
   ],
   "source": [
    "print('XGBoost with grid search')\n",
    "params={\n",
    "    'learning_rate': [0.01, 0.02],\n",
    "    'max_depth': [3],\n",
    "    #'subsample': [0.6]\n",
    "    #'colsample_bytree': [0.5],\n",
    "    'n_estimators': [50, 100, 200, 300, 400, 500]\n",
    "    #'reg_alpha': [0.03] #[0.01, 0.02, 0.03, 0.04]\n",
    "}\n",
    "\n",
    "\n",
    "estimator = xgb.XGBClassifier()\n",
    "\n",
    "grid_xgb = GridSearchCV(estimator,\n",
    "                  params,\n",
    "                  cv=2,\n",
    "                  scoring=\"roc_auc\",\n",
    "                  n_jobs=1,\n",
    "                  verbose=False)\n",
    "grid_xgb.fit(x_train, y_train)\n",
    "best_est = grid_xgb.best_estimator_\n",
    "print(best_est)\n",
    "print(grid_xgb.best_score_)\n",
    "\n",
    "print('Cross validation of Gridsearch best estimator')\n",
    "evaluation(best_est,x_test,y_test)"
   ]
  },
  {
   "cell_type": "markdown",
   "metadata": {},
   "source": [
    "# Model implementation"
   ]
  },
  {
   "cell_type": "code",
   "execution_count": 69,
   "metadata": {},
   "outputs": [
    {
     "name": "stdout",
     "output_type": "stream",
     "text": [
      "LogisticRegression\n",
      "LogisticRegression(C=1.0, class_weight=None, dual=False, fit_intercept=True,\n",
      "                   intercept_scaling=1, l1_ratio=None, max_iter=100,\n",
      "                   multi_class='warn', n_jobs=None, penalty='l2',\n",
      "                   random_state=None, solver='warn', tol=0.0001, verbose=0,\n",
      "                   warm_start=False) \n",
      "\n",
      "              precision    recall  f1-score   support\n",
      "\n",
      "           0       0.57      0.49      0.53        74\n",
      "           1       0.80      0.85      0.82       176\n",
      "\n",
      "    accuracy                           0.74       250\n",
      "   macro avg       0.68      0.67      0.67       250\n",
      "weighted avg       0.73      0.74      0.73       250\n",
      "\n",
      "confusion matrix\n",
      "[[ 36  38]\n",
      " [ 27 149]]\n",
      "Logistic model Accuracy: 0.740000\n",
      "ROC curve\n"
     ]
    },
    {
     "name": "stderr",
     "output_type": "stream",
     "text": [
      "C:\\ProgramData\\Anaconda3\\lib\\site-packages\\sklearn\\linear_model\\logistic.py:432: FutureWarning: Default solver will be changed to 'lbfgs' in 0.22. Specify a solver to silence this warning.\n",
      "  FutureWarning)\n"
     ]
    },
    {
     "data": {
      "image/png": "[encoded data removed]",
      "text/plain": [
       "<Figure size 504x432 with 1 Axes>"
      ]
     },
     "metadata": {
      "needs_background": "light"
     },
     "output_type": "display_data"
    },
    {
     "name": "stdout",
     "output_type": "stream",
     "text": [
      "Cross Validation Accuracy: 0.72 (+/- 0.02)\n",
      "Cross Validation Precision: 0.80 (+/- 0.01)\n",
      "Cross Validation Recall: 0.80 (+/- 0.01)\n",
      "Cross Validation roc_auc: 0.74 (+/- 0.05)\n"
     ]
    },
    {
     "name": "stderr",
     "output_type": "stream",
     "text": [
      "C:\\ProgramData\\Anaconda3\\lib\\site-packages\\sklearn\\linear_model\\logistic.py:432: FutureWarning: Default solver will be changed to 'lbfgs' in 0.22. Specify a solver to silence this warning.\n",
      "  FutureWarning)\n",
      "C:\\ProgramData\\Anaconda3\\lib\\site-packages\\sklearn\\linear_model\\logistic.py:432: FutureWarning: Default solver will be changed to 'lbfgs' in 0.22. Specify a solver to silence this warning.\n",
      "  FutureWarning)\n",
      "C:\\ProgramData\\Anaconda3\\lib\\site-packages\\sklearn\\linear_model\\logistic.py:432: FutureWarning: Default solver will be changed to 'lbfgs' in 0.22. Specify a solver to silence this warning.\n",
      "  FutureWarning)\n",
      "C:\\ProgramData\\Anaconda3\\lib\\site-packages\\sklearn\\linear_model\\logistic.py:432: FutureWarning: Default solver will be changed to 'lbfgs' in 0.22. Specify a solver to silence this warning.\n",
      "  FutureWarning)\n",
      "C:\\ProgramData\\Anaconda3\\lib\\site-packages\\sklearn\\linear_model\\logistic.py:432: FutureWarning: Default solver will be changed to 'lbfgs' in 0.22. Specify a solver to silence this warning.\n",
      "  FutureWarning)\n",
      "C:\\ProgramData\\Anaconda3\\lib\\site-packages\\sklearn\\linear_model\\logistic.py:432: FutureWarning: Default solver will be changed to 'lbfgs' in 0.22. Specify a solver to silence this warning.\n",
      "  FutureWarning)\n",
      "C:\\ProgramData\\Anaconda3\\lib\\site-packages\\sklearn\\linear_model\\logistic.py:432: FutureWarning: Default solver will be changed to 'lbfgs' in 0.22. Specify a solver to silence this warning.\n",
      "  FutureWarning)\n",
      "C:\\ProgramData\\Anaconda3\\lib\\site-packages\\sklearn\\linear_model\\logistic.py:432: FutureWarning: Default solver will be changed to 'lbfgs' in 0.22. Specify a solver to silence this warning.\n",
      "  FutureWarning)\n"
     ]
    }
   ],
   "source": [
    "# Logistic Regression\n",
    "logreg(x_train, y_train,x_test,y_test)"
   ]
  },
  {
   "cell_type": "code",
   "execution_count": 72,
   "metadata": {},
   "outputs": [
    {
     "name": "stdout",
     "output_type": "stream",
     "text": [
      "ROC curve\n"
     ]
    },
    {
     "data": {
      "image/png": "[encoded data removed]",
      "text/plain": [
       "<Figure size 504x432 with 1 Axes>"
      ]
     },
     "metadata": {
      "needs_background": "light"
     },
     "output_type": "display_data"
    },
    {
     "name": "stdout",
     "output_type": "stream",
     "text": [
      "Decision tree model Accuracy: 0.692000\n",
      "confusion matrix\n",
      "[[ 41  33]\n",
      " [ 44 132]]\n",
      "Cross Validation Accuracy: 0.64 (+/- 0.00)\n",
      "Cross Validation Precision: 0.75 (+/- 0.01)\n",
      "Cross Validation Recall: 0.80 (+/- 0.03)\n",
      "Cross Validation roc_auc: 0.58 (+/- 0.02)\n"
     ]
    }
   ],
   "source": [
    "#Decison tree baseline model\n",
    "model = tree.DecisionTreeClassifier()\n",
    "#Fitting Decison tree baseline model\n",
    "model.fit(x_train,y_train)\n",
    "#Predict target variables y for test data\n",
    "y_pred = model.predict(x_test) \n",
    "#Create and print confusion matrix\n",
    "print(\"ROC curve\")\n",
    "compute_roc(y_test, y_pred, plot=True)\n",
    "cfm = confusion_matrix(y_test,y_pred)\n",
    "print (\"Decision tree model Accuracy: %.6f\" %accuracy_score(y_test,y_pred))\n",
    "print(\"confusion matrix\")\n",
    "print(cfm)\n",
    "evaluation(model,x_test,y_test)"
   ]
  },
  {
   "cell_type": "code",
   "execution_count": 73,
   "metadata": {},
   "outputs": [
    {
     "name": "stdout",
     "output_type": "stream",
     "text": [
      "ROC curve\n",
      "Decison tree model Accuracy: 0.708000\n"
     ]
    },
    {
     "data": {
      "image/png": "[encoded data removed]",
      "text/plain": [
       "<Figure size 504x432 with 1 Axes>"
      ]
     },
     "metadata": {
      "needs_background": "light"
     },
     "output_type": "display_data"
    },
    {
     "name": "stdout",
     "output_type": "stream",
     "text": [
      "Decision tree model Accuracy: 0.708000\n",
      "confusion matrix\n",
      "[[ 12  62]\n",
      " [ 11 165]]\n",
      "Cross Validation Accuracy: 0.70 (+/- 0.00)\n",
      "Cross Validation Precision: 0.78 (+/- 0.07)\n",
      "Cross Validation Recall: 0.84 (+/- 0.14)\n",
      "Cross Validation roc_auc: 0.71 (+/- 0.01)\n"
     ]
    }
   ],
   "source": [
    "model = tree.DecisionTreeClassifier(max_depth = 3)\n",
    "#Fitting Decison tree baseline model\n",
    "model.fit(x_train,y_train)\n",
    "# Predict target variables y for test data\n",
    "y_pred = model.predict(x_test) \n",
    "# Create and print confusion matrix\n",
    "print(\"ROC curve\")\n",
    "print (\"Decison tree model Accuracy: %.6f\" %accuracy_score(y_test,y_pred) )\n",
    "compute_roc(y_test, y_pred, plot=True)\n",
    "cfm = confusion_matrix(y_test,y_pred)\n",
    "print (\"Decision tree model Accuracy: %.6f\" %accuracy_score(y_test,y_pred))\n",
    "print(\"confusion matrix\")\n",
    "print(cfm)\n",
    "evaluation(model,x_test,y_test)"
   ]
  },
  {
   "cell_type": "code",
   "execution_count": 64,
   "metadata": {
    "scrolled": false
   },
   "outputs": [
    {
     "name": "stdout",
     "output_type": "stream",
     "text": [
      "Scorer: make_scorer(roc_auc_score, needs_threshold=True)\n",
      "Best_score: 0.63629\n",
      "Score on the test set: 0.70400\n",
      "Cross validation of Gridsearch best estimator\n",
      "Cross Validation Accuracy: 0.70 (+/- 0.04)\n",
      "Cross Validation Precision: 0.76 (+/- 0.01)\n",
      "Cross Validation Recall: 0.90 (+/- 0.10)\n",
      "Cross Validation roc_auc: 0.45 (+/- 0.04)\n"
     ]
    },
    {
     "data": {
      "image/png": "[encoded data removed]",
      "text/plain": [
       "<Figure size 504x432 with 1 Axes>"
      ]
     },
     "metadata": {
      "needs_background": "light"
     },
     "output_type": "display_data"
    },
    {
     "data": {
      "text/plain": [
       "(array([0., 1.]), array([0., 1.]), 0.5)"
      ]
     },
     "execution_count": 64,
     "metadata": {},
     "output_type": "execute_result"
    }
   ],
   "source": [
    "#MLP implementation \n",
    "best_pipe = grid_result.best_estimator_\n",
    "print('Scorer:' , grid_result.scorer_)\n",
    "print('Best_score: %.5f' % grid_result.best_score_)\n",
    "y_pred = best_pipe.predict(x_test)\n",
    "#print(y_pred)\n",
    "score = best_pipe.score(x_test, y_test)\n",
    "print('Score on the test set: %.5f' %  score)\n",
    "print('Cross validation of Gridsearch best estimator')\n",
    "evaluation(best_pipe,x_test,y_test)\n",
    "compute_roc(y_test, y_pred, plot=True)"
   ]
  },
  {
   "cell_type": "code",
   "execution_count": 58,
   "metadata": {},
   "outputs": [
    {
     "name": "stdout",
     "output_type": "stream",
     "text": [
      "XGBoost v 1.0.2\n",
      "[0]\tvalidation_0-auc:0.82772\tvalidation_1-auc:0.73772\n",
      "Multiple eval metrics have been passed: 'validation_1-auc' will be used for early stopping.\n",
      "\n",
      "Will train until validation_1-auc hasn't improved in 100 rounds.\n",
      "[99]\tvalidation_0-auc:1.00000\tvalidation_1-auc:0.73833\n",
      "5\n",
      "XGBClassifier(base_score=0.5, booster=None, colsample_bylevel=1,\n",
      "              colsample_bynode=1, colsample_bytree=1, gamma=0, gpu_id=-1,\n",
      "              importance_type='gain', interaction_constraints=None,\n",
      "              learning_rate=0.300000012, max_delta_step=0, max_depth=6,\n",
      "              min_child_weight=1, missing=nan, monotone_constraints=None,\n",
      "              n_estimators=5, n_jobs=0, num_parallel_tree=1,\n",
      "              objective='binary:logistic', random_state=0, reg_alpha=0,\n",
      "              reg_lambda=1, scale_pos_weight=1, subsample=1, tree_method=None,\n",
      "              validate_parameters=False, verbosity=None) \n",
      "\n",
      "[0 1 1 1 1 1 0 1 1 0 0 0 1 1 0 1 1 1 1 1 0 0 0 1 1 0 1 1 1 0 1 1 1 1 1 1 1\n",
      " 1 0 1 1 1 1 1 1 0 1 0 1 1 1 0 1 1 0 1 0 1 1 1 0 1 0 1 1 1 1 1 1 1 1 1 0 0\n",
      " 0 1 1 1 1 1 0 1 1 1 1 1 1 0 1 1 1 1 1 1 1 1 1 1 0 1 1 1 1 1 1 1 0 0 0 1 1\n",
      " 0 0 1 1 1 0 1 1 1 1 1 1 0 1 1 1 1 1 1 0 0 0 1 1 0 1 1 1 0 0 0 1 1 1 1 1 0\n",
      " 1 1 1 1 1 1 1 1 1 1 1 1 1 1 1 1 0 0 0 1 1 0 1 1 0 1 1 0 0 1 1 1 1 0 1 0 1\n",
      " 1 1 1 1 1 1 0 1 1 1 1 0 1 1 1 1 0 0 0 1 1 0 1 1 1 1 1 1 1 1 1 1 1 1 1 0 1\n",
      " 1 1 1 1 1 0 0 1 1 1 1 1 0 0 1 1 1 0 1 1 1 1 1 1 1 1 1 1]\n",
      "Cross Validation Accuracy: 0.73 (+/- 0.01)\n",
      "Cross Validation Precision: 0.78 (+/- 0.01)\n",
      "Cross Validation Recall: 0.86 (+/- 0.00)\n",
      "Cross Validation roc_auc: 0.74 (+/- 0.02)\n",
      "[[ 37  37]\n",
      " [ 24 152]]\n",
      "              precision    recall  f1-score   support\n",
      "\n",
      "           0       0.61      0.50      0.55        74\n",
      "           1       0.80      0.86      0.83       176\n",
      "\n",
      "    accuracy                           0.76       250\n",
      "   macro avg       0.71      0.68      0.69       250\n",
      "weighted avg       0.75      0.76      0.75       250\n",
      "\n",
      "\n",
      "\n",
      "XGBoost model Accuracy: 0.756000\n",
      "ROC curve\n"
     ]
    },
    {
     "data": {
      "image/png": "[encoded data removed]",
      "text/plain": [
       "<Figure size 504x432 with 1 Axes>"
      ]
     },
     "metadata": {
      "needs_background": "light"
     },
     "output_type": "display_data"
    },
    {
     "data": {
      "text/plain": [
       "XGBClassifier(base_score=0.5, booster=None, colsample_bylevel=1,\n",
       "              colsample_bynode=1, colsample_bytree=1, gamma=0, gpu_id=-1,\n",
       "              importance_type='gain', interaction_constraints=None,\n",
       "              learning_rate=0.300000012, max_delta_step=0, max_depth=6,\n",
       "              min_child_weight=1, missing=nan, monotone_constraints=None,\n",
       "              n_estimators=5, n_jobs=0, num_parallel_tree=1,\n",
       "              objective='binary:logistic', random_state=0, reg_alpha=0,\n",
       "              reg_lambda=1, scale_pos_weight=1, subsample=1, tree_method=None,\n",
       "              validate_parameters=False, verbosity=None)"
      ]
     },
     "execution_count": 58,
     "metadata": {},
     "output_type": "execute_result"
    }
   ],
   "source": [
    "#Xgboost implementation \n",
    "params={}\n",
    "xgboost(params, x_train, y_train, x_test, y_test)"
   ]
  },
  {
   "cell_type": "code",
   "execution_count": 54,
   "metadata": {},
   "outputs": [
    {
     "name": "stdout",
     "output_type": "stream",
     "text": [
      "XGBoost v 1.0.2\n",
      "[0]\tvalidation_0-auc:0.74884\tvalidation_1-auc:0.69487\n",
      "Multiple eval metrics have been passed: 'validation_1-auc' will be used for early stopping.\n",
      "\n",
      "Will train until validation_1-auc hasn't improved in 100 rounds.\n",
      "[100]\tvalidation_0-auc:0.84272\tvalidation_1-auc:0.76827\n",
      "[200]\tvalidation_0-auc:0.87411\tvalidation_1-auc:0.77046\n",
      "Stopping. Best iteration:\n",
      "[170]\tvalidation_0-auc:0.86610\tvalidation_1-auc:0.77277\n",
      "\n",
      "171\n",
      "XGBClassifier(base_score=0.5, booster=None, colsample_bylevel=1,\n",
      "              colsample_bynode=1, colsample_bytree=1, gamma=0, gpu_id=-1,\n",
      "              importance_type='gain', interaction_constraints=None,\n",
      "              learning_rate=0.01, max_delta_step=0, max_depth=3,\n",
      "              min_child_weight=1, missing=nan, monotone_constraints=None,\n",
      "              n_estimators=171, n_jobs=0, num_parallel_tree=1,\n",
      "              objective='binary:logistic', random_state=0, reg_alpha=0,\n",
      "              reg_lambda=1, scale_pos_weight=1, subsample=1, tree_method=None,\n",
      "              validate_parameters=False, verbosity=None) \n",
      "\n",
      "[0 1 1 1 1 1 1 1 1 0 1 0 1 1 1 1 1 1 1 1 0 1 1 1 1 0 1 1 1 0 1 1 1 1 1 0 1\n",
      " 1 0 1 1 1 1 1 1 1 1 1 1 1 1 0 1 1 1 1 0 1 1 1 0 1 0 1 1 1 1 1 1 1 1 1 0 1\n",
      " 1 1 1 1 1 1 0 1 1 1 1 1 1 1 1 1 1 1 1 1 1 1 1 1 1 1 1 1 1 1 1 1 1 1 0 1 1\n",
      " 1 0 1 1 1 1 1 1 1 1 1 1 0 1 1 1 1 1 1 1 0 0 1 1 1 1 1 1 0 1 0 1 1 1 1 1 0\n",
      " 1 1 1 1 1 1 1 1 1 1 1 1 1 1 1 1 0 0 1 1 1 1 0 1 0 1 1 0 0 1 1 1 1 1 1 0 1\n",
      " 1 1 1 1 1 1 0 1 1 1 1 1 1 1 1 1 0 0 1 1 1 0 1 1 1 1 1 1 1 1 1 1 1 1 1 0 1\n",
      " 1 1 1 1 1 0 0 1 1 1 1 1 0 1 1 1 1 1 1 1 1 1 1 1 1 1 1 1]\n",
      "Cross Validation Accuracy: 0.73 (+/- 0.00)\n",
      "Cross Validation Precision: 0.75 (+/- 0.01)\n",
      "Cross Validation Recall: 0.91 (+/- 0.02)\n",
      "Cross Validation roc_auc: 0.75 (+/- 0.01)\n",
      "[[ 25  49]\n",
      " [ 12 164]]\n",
      "              precision    recall  f1-score   support\n",
      "\n",
      "           0       0.68      0.34      0.45        74\n",
      "           1       0.77      0.93      0.84       176\n",
      "\n",
      "    accuracy                           0.76       250\n",
      "   macro avg       0.72      0.63      0.65       250\n",
      "weighted avg       0.74      0.76      0.73       250\n",
      "\n",
      "\n",
      "\n",
      "XGBoost model Accuracy: 0.756000\n",
      "ROC curve\n"
     ]
    },
    {
     "data": {
      "image/png": "[encoded data removed]",
      "text/plain": [
       "<Figure size 504x432 with 1 Axes>"
      ]
     },
     "metadata": {
      "needs_background": "light"
     },
     "output_type": "display_data"
    },
    {
     "data": {
      "text/plain": [
       "XGBClassifier(base_score=0.5, booster=None, colsample_bylevel=1,\n",
       "              colsample_bynode=1, colsample_bytree=1, gamma=0, gpu_id=-1,\n",
       "              importance_type='gain', interaction_constraints=None,\n",
       "              learning_rate=0.01, max_delta_step=0, max_depth=3,\n",
       "              min_child_weight=1, missing=nan, monotone_constraints=None,\n",
       "              n_estimators=171, n_jobs=0, num_parallel_tree=1,\n",
       "              objective='binary:logistic', random_state=0, reg_alpha=0,\n",
       "              reg_lambda=1, scale_pos_weight=1, subsample=1, tree_method=None,\n",
       "              validate_parameters=False, verbosity=None)"
      ]
     },
     "execution_count": 54,
     "metadata": {},
     "output_type": "execute_result"
    }
   ],
   "source": [
    "params= {'learning_rate':0.01, 'max_depth':3,'n_estimators':500}\n",
    "xgboost(params, x_train, y_train, x_test, y_test)"
   ]
  }
 ],
 "metadata": {
  "kernelspec": {
   "display_name": "Python 3",
   "language": "python",
   "name": "python3"
  },
  "language_info": {
   "codemirror_mode": {
    "name": "ipython",
    "version": 3
   },
   "file_extension": ".py",
   "mimetype": "text/x-python",
   "name": "python",
   "nbconvert_exporter": "python",
   "pygments_lexer": "ipython3",
   "version": "3.7.4"
  }
 },
 "nbformat": 4,
 "nbformat_minor": 2
}
