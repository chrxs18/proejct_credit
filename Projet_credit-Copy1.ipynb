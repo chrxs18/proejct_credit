{
 "cells": [
  {
   "cell_type": "markdown",
   "metadata": {},
   "source": [
    "# Project on German credit"
   ]
  },
  {
   "cell_type": "markdown",
   "metadata": {},
   "source": [
    "# Packages"
   ]
  },
  {
   "cell_type": "code",
   "execution_count": 1,
   "metadata": {},
   "outputs": [],
   "source": [
    "import pandas as pd \n",
    "import numpy as np \n",
    "from collections import defaultdict\n",
    "from sklearn.linear_model import LogisticRegression\n",
    "import matplotlib.pyplot as plt\n",
    "\n",
    "from sklearn.model_selection import train_test_split\n",
    "from sklearn.preprocessing import LabelEncoder, StandardScaler\n",
    "from sklearn.model_selection import cross_val_score\n",
    "from sklearn.metrics import accuracy_score,confusion_matrix,roc_curve,classification_report,auc\n",
    "from sklearn.model_selection import StratifiedKFold\n",
    "import xgboost as xgb\n",
    "from xgboost import XGBClassifier\n",
    "\n",
    "import tensorflow as tf \n",
    "import tensorflow.keras as keras \n",
    "from tensorflow.keras.layers import Dense \n",
    "from tensorflow.keras.losses import binary_crossentropy\n",
    "from tensorflow.keras.optimizers import Adam\n",
    "from tensorflow.keras.wrappers.scikit_learn import KerasClassifier\n",
    "from sklearn.model_selection import GridSearchCV\n",
    "from tensorflow.keras import initializers"
   ]
  },
  {
   "cell_type": "markdown",
   "metadata": {},
   "source": [
    "# Load dataset "
   ]
  },
  {
   "cell_type": "code",
   "execution_count": 3,
   "metadata": {},
   "outputs": [
    {
     "name": "stdout",
     "output_type": "stream",
     "text": [
      "German Credit Data set   existingchecking  duration credithistory purpose  creditamount savings  \\\n",
      "0              A11         6           A34     A43          1169     A65   \n",
      "1              A12        48           A32     A43          5951     A61   \n",
      "2              A14        12           A34     A46          2096     A61   \n",
      "3              A11        42           A32     A42          7882     A61   \n",
      "4              A11        24           A33     A40          4870     A61   \n",
      "\n",
      "  employmentsince  installmentrate statussex otherdebtors  ...  property age  \\\n",
      "0             A75                4       A93         A101  ...      A121  67   \n",
      "1             A73                2       A92         A101  ...      A121  22   \n",
      "2             A74                2       A93         A101  ...      A121  49   \n",
      "3             A74                2       A93         A103  ...      A122  45   \n",
      "4             A73                3       A93         A101  ...      A124  53   \n",
      "\n",
      "   otherinstallmentplans housing existingcredits   job peopleliable  \\\n",
      "0                   A143    A152               2  A173            1   \n",
      "1                   A143    A152               1  A173            1   \n",
      "2                   A143    A152               1  A172            2   \n",
      "3                   A143    A153               1  A173            2   \n",
      "4                   A143    A153               2  A173            2   \n",
      "\n",
      "   telephone foreignworker classification  \n",
      "0       A192          A201              1  \n",
      "1       A191          A201              2  \n",
      "2       A191          A201              1  \n",
      "3       A191          A201              1  \n",
      "4       A191          A201              2  \n",
      "\n",
      "[5 rows x 21 columns]\n",
      "Data set shape (1000, 21)\n"
     ]
    }
   ],
   "source": [
    "\n",
    "names = ['existingchecking', 'duration', 'credithistory', 'purpose', 'creditamount', \n",
    "         'savings', 'employmentsince', 'installmentrate', 'statussex', 'otherdebtors', \n",
    "         'residencesince', 'property', 'age', 'otherinstallmentplans', 'housing', \n",
    "         'existingcredits', 'job', 'peopleliable', 'telephone', 'foreignworker', 'classification']\n",
    "\n",
    "file = r'D:\\sklearn\\german.data'\n",
    "df = pd.read_csv(file,names = names, delimiter = ' ')\n",
    "print(\"German Credit Data set\", df.head() )\n",
    "print(\"Data set shape\", df.shape )"
   ]
  },
  {
   "cell_type": "markdown",
   "metadata": {},
   "source": [
    "# Data Analysis"
   ]
  },
  {
   "cell_type": "code",
   "execution_count": null,
   "metadata": {},
   "outputs": [],
   "source": []
  },
  {
   "cell_type": "markdown",
   "metadata": {},
   "source": [
    "# Data cleaning "
   ]
  },
  {
   "cell_type": "code",
   "execution_count": 4,
   "metadata": {},
   "outputs": [
    {
     "data": {
      "text/plain": [
       "1    700\n",
       "0    300\n",
       "Name: classification, dtype: int64"
      ]
     },
     "execution_count": 4,
     "metadata": {},
     "output_type": "execute_result"
    }
   ],
   "source": [
    "# Transformation de la variable classification -> 0 = 'bad' credit; 1 = 'good' credit\n",
    "df.classification.replace([1,2], [1,0], inplace=True)\n",
    "# Nombre de 'good' credits  and 'bad credits\n",
    "df.classification.value_counts()"
   ]
  },
  {
   "cell_type": "code",
   "execution_count": 6,
   "metadata": {},
   "outputs": [],
   "source": [
    "#Variables nurmeriques \n",
    "numvars = ['creditamount', 'duration', 'installmentrate', 'residencesince', 'age', \n",
    "           'existingcredits', 'peopleliable', 'classification']\n",
    "\n",
    "#Variables categorielles \n",
    "catvars = ['existingchecking', 'credithistory', 'purpose', 'savings', 'employmentsince',\n",
    "           'statussex', 'otherdebtors', 'property', 'otherinstallmentplans', 'housing', 'job', \n",
    "           'telephone', 'foreignworker'] "
   ]
  },
  {
   "cell_type": "code",
   "execution_count": 7,
   "metadata": {},
   "outputs": [],
   "source": [
    "#Centration-reduction des variables numeriques \n",
    "numdata_std = pd.DataFrame(StandardScaler().fit_transform(df[numvars].drop(['classification'], axis=1)))"
   ]
  },
  {
   "cell_type": "code",
   "execution_count": 8,
   "metadata": {
    "scrolled": true
   },
   "outputs": [
    {
     "name": "stdout",
     "output_type": "stream",
     "text": [
      "existingchecking :  ['A11' 'A12' 'A14' 'A13']\n",
      "existingchecking :  [0 1 3 2]\n",
      "credithistory :  ['A34' 'A32' 'A33' 'A30' 'A31']\n",
      "credithistory :  [4 2 3 0 1]\n",
      "purpose :  ['A43' 'A46' 'A42' 'A40' 'A41' 'A49' 'A44' 'A45' 'A410' 'A48']\n",
      "purpose :  [4 7 3 0 1 9 5 6 2 8]\n",
      "savings :  ['A65' 'A61' 'A63' 'A64' 'A62']\n",
      "savings :  [4 0 2 3 1]\n",
      "employmentsince :  ['A75' 'A73' 'A74' 'A71' 'A72']\n",
      "employmentsince :  [4 2 3 0 1]\n",
      "statussex :  ['A93' 'A92' 'A91' 'A94']\n",
      "statussex :  [2 1 0 3]\n",
      "otherdebtors :  ['A101' 'A103' 'A102']\n",
      "otherdebtors :  [0 2 1]\n",
      "property :  ['A121' 'A122' 'A124' 'A123']\n",
      "property :  [0 1 3 2]\n",
      "otherinstallmentplans :  ['A143' 'A141' 'A142']\n",
      "otherinstallmentplans :  [2 0 1]\n",
      "housing :  ['A152' 'A153' 'A151']\n",
      "housing :  [1 2 0]\n",
      "job :  ['A173' 'A172' 'A174' 'A171']\n",
      "job :  [2 1 3 0]\n",
      "telephone :  ['A192' 'A191']\n",
      "telephone :  [1 0]\n",
      "foreignworker :  ['A201' 'A202']\n",
      "foreignworker :  [0 1]\n"
     ]
    }
   ],
   "source": [
    "#Codification des variables categorielles \n",
    "d = defaultdict(LabelEncoder)\n",
    "lecatdf = df[catvars].apply(lambda x: d[x.name].fit_transform(x))\n",
    "\n",
    "# print transformations\n",
    "for x in range(len(catvars)):\n",
    "    print(catvars[x],\": \", df[catvars[x]].unique())\n",
    "    print(catvars[x],\": \", lecatdf[catvars[x]].unique())"
   ]
  },
  {
   "cell_type": "code",
   "execution_count": 9,
   "metadata": {},
   "outputs": [],
   "source": [
    "#One hot encoding, creation d'une variable binanire pour chaque variable categorielle \n",
    "dummyvars = pd.get_dummies(df[catvars])"
   ]
  },
  {
   "cell_type": "code",
   "execution_count": 10,
   "metadata": {
    "scrolled": true
   },
   "outputs": [
    {
     "name": "stdout",
     "output_type": "stream",
     "text": [
      "German credit clean dataset    creditamount  duration  installmentrate  residencesince  age  \\\n",
      "0          1169         6                4               4   67   \n",
      "1          5951        48                2               2   22   \n",
      "2          2096        12                2               3   49   \n",
      "3          7882        42                2               4   45   \n",
      "4          4870        24                3               4   53   \n",
      "\n",
      "   existingcredits  peopleliable  classification  existingchecking_A11  \\\n",
      "0                2             1               1                     1   \n",
      "1                1             1               0                     0   \n",
      "2                1             2               1                     0   \n",
      "3                1             2               1                     1   \n",
      "4                2             2               0                     1   \n",
      "\n",
      "   existingchecking_A12  ...  housing_A152  housing_A153  job_A171  job_A172  \\\n",
      "0                     0  ...             1             0         0         0   \n",
      "1                     1  ...             1             0         0         0   \n",
      "2                     0  ...             1             0         0         1   \n",
      "3                     0  ...             0             1         0         0   \n",
      "4                     0  ...             0             1         0         0   \n",
      "\n",
      "   job_A173  job_A174  telephone_A191  telephone_A192  foreignworker_A201  \\\n",
      "0         1         0               0               1                   1   \n",
      "1         1         0               1               0                   1   \n",
      "2         0         0               1               0                   1   \n",
      "3         1         0               1               0                   1   \n",
      "4         1         0               1               0                   1   \n",
      "\n",
      "   foreignworker_A202  \n",
      "0                   0  \n",
      "1                   0  \n",
      "2                   0  \n",
      "3                   0  \n",
      "4                   0  \n",
      "\n",
      "[5 rows x 62 columns]\n",
      "Clean dataset set shape (1000, 62)\n"
     ]
    }
   ],
   "source": [
    "#Creation de la clean database \n",
    "data_clean = pd.concat([df[numvars], dummyvars], axis = 1)\n",
    "print(\"German credit clean dataset\", data_clean.head())\n",
    "print(\"Clean dataset set shape\", data_clean.shape )"
   ]
  },
  {
   "cell_type": "markdown",
   "metadata": {},
   "source": [
    "# Train and test dataset"
   ]
  },
  {
   "cell_type": "code",
   "execution_count": 11,
   "metadata": {},
   "outputs": [
    {
     "name": "stdout",
     "output_type": "stream",
     "text": [
      "x_train (750, 61)\n",
      "x_test (250, 61)\n",
      "y_train (750,)\n",
      "y_test (250,)\n"
     ]
    },
    {
     "data": {
      "text/plain": [
       "1    524\n",
       "0    226\n",
       "Name: classification, dtype: int64"
      ]
     },
     "execution_count": 11,
     "metadata": {},
     "output_type": "execute_result"
    }
   ],
   "source": [
    "#Train set validation set \n",
    "x= data_clean.drop('classification', axis=1)\n",
    "y = data_clean['classification']\n",
    "x_train,x_test,y_train,y_test = train_test_split(x,y,test_size=0.25,random_state=0)\n",
    "print(\"x_train\", x_train.shape)\n",
    "print(\"x_test\", x_test.shape)\n",
    "print(\"y_train\", y_train.shape)\n",
    "print(\"y_test\", y_test.shape)\n",
    "y_test.value_counts()\n",
    "y_train.value_counts()"
   ]
  },
  {
   "cell_type": "markdown",
   "metadata": {},
   "source": [
    "# Classification algorithms"
   ]
  },
  {
   "cell_type": "markdown",
   "metadata": {},
   "source": [
    "# Functions"
   ]
  },
  {
   "cell_type": "code",
   "execution_count": 31,
   "metadata": {},
   "outputs": [],
   "source": [
    " #Fonction d'evaluation \n",
    "def evaluation(model,X,Y):\n",
    "    # Cross Validation to test and anticipate overfitting problem\n",
    "    scores1 = cross_val_score(model, X, Y, cv=2, scoring='accuracy')\n",
    "    scores2 = cross_val_score(model, X, Y, cv=2, scoring='precision')\n",
    "    scores3 = cross_val_score(model, X, Y, cv=2, scoring='recall')\n",
    "    scores4 = cross_val_score(model, X, Y, cv=2, scoring='roc_auc')\n",
    "    # The mean score and standard deviation of the score estimate\n",
    "    print(\"Cross Validation Accuracy: %0.2f (+/- %0.2f)\" % (scores1.mean(), scores1.std()))\n",
    "    print(\"Cross Validation Precision: %0.2f (+/- %0.2f)\" % (scores2.mean(), scores2.std()))\n",
    "    print(\"Cross Validation Recall: %0.2f (+/- %0.2f)\" % (scores3.mean(), scores3.std()))\n",
    "    print(\"Cross Validation roc_auc: %0.2f (+/- %0.2f)\" % (scores4.mean(), scores4.std()))\n",
    "    return  "
   ]
  },
  {
   "cell_type": "code",
   "execution_count": 107,
   "metadata": {},
   "outputs": [],
   "source": [
    "def compute_roc(y_true, y_pred, plot=True):\n",
    "    fpr = dict()\n",
    "    tpr = dict()\n",
    "    auc_score = dict()\n",
    "    fpr, tpr, _ = roc_curve(y_true, y_pred)\n",
    "    auc_score = auc(fpr, tpr)\n",
    "    if plot:\n",
    "        plt.figure(figsize=(7, 6))\n",
    "        plt.plot(fpr, tpr, color='blue',\n",
    "                 label='ROC curve (area = %0.2f)' % auc_score)\n",
    "        plt.plot([0, 1], [0, 1], color='navy', lw=3, linestyle='--')\n",
    "        plt.legend(loc=\"upper right\")\n",
    "        plt.xlim([0.0, 1.0])\n",
    "        plt.ylim([0.0, 1.0])\n",
    "        plt.title(\"ROC Curve\")\n",
    "        plt.xlabel('False Positive Rate')\n",
    "        plt.ylabel('True Positive Rate')\n",
    "        plt.title('Receiver operating characteristic')\n",
    "        plt.show()\n",
    "    return fpr, tpr, auc_score"
   ]
  },
  {
   "cell_type": "code",
   "execution_count": 114,
   "metadata": {},
   "outputs": [],
   "source": [
    "#Baseline mlp model \n",
    "def mlp_model(init,learning_rate):   \n",
    "    \n",
    "    # Model initialisation and layers specification\n",
    "    model = tf.keras.Sequential()\n",
    "    model.add(Dense(61,input_dim=61,kernel_initializer=init, activation = 'relu'))\n",
    "    model.add(Dense(1,kernel_initializer=init, activation='sigmoid'))\n",
    "    \n",
    "    # Initialisation of the optimizer\n",
    "    adam = keras.optimizers.Adam(learning_rate=learning_rate)\n",
    "    \n",
    "    # Compile model \n",
    "    model.compile(loss=binary_crossentropy, optimizer=adam, metrics=['accuracy']) \n",
    "    return model\n",
    "\n",
    "# Gradient boosting model\n",
    "def xgboost(params, X_train, y_train,X_test, y_test):\n",
    "    print('XGBoost v',xgb.__version__)\n",
    "    eval_set=[(X_train, y_train), (X_test, y_test)]\n",
    "    \n",
    "    model = XGBClassifier(**params).\\\n",
    "      fit(X_train, y_train, eval_set=eval_set, \\\n",
    "                  eval_metric='auc', early_stopping_rounds = 100, verbose=100)\n",
    "        \n",
    "    print(model.best_ntree_limit)\n",
    "\n",
    "    model.set_params(**{'n_estimators': model.best_ntree_limit})\n",
    "    model.fit(X_train, y_train)\n",
    "    print(model,'\\n')\n",
    "    \n",
    "    # Predict target variables y for test data\n",
    "    y_pred = model.predict(X_test, ntree_limit=model.best_ntree_limit) \n",
    "    print(y_pred)\n",
    "   \n",
    "    #Get Cross Validation and Confusion matrix\n",
    "    evaluation(model, X_train, y_train)\n",
    "    \n",
    "    \n",
    "    # Create and print confusion matrix    \n",
    "    cfm = confusion_matrix(y_test,y_pred)\n",
    "    print(cfm)\n",
    "    \n",
    "    print (classification_report(y_test,y_pred) )\n",
    "    print ('\\n')\n",
    "    print (\"XGBoost model Accuracy: %.6f\" %accuracy_score(y_test,y_pred) )\n",
    "    \n",
    "    # ROC Curve\n",
    "    print(\"ROC curve\")\n",
    "    compute_roc(y_test, y_pred, plot=True)\n",
    "    \n",
    "    return model\n",
    "\n",
    "\n",
    "\n",
    "# fit, train and cross validate Logisitc regression with training and test data \n",
    "def logreg(X_train, y_train,X_test, y_test):\n",
    "    print(\"LogisticRegression\")\n",
    "    model = LogisticRegression().fit(X_train, y_train)\n",
    "    print(model,'\\n')\n",
    "    \n",
    "    # Predict target variables y for test data\n",
    "    y_pred = model.predict(X_test)\n",
    "    \n",
    "    print (classification_report(y_test,y_pred) )\n",
    "    \n",
    "    # Create and print confusion matrix \n",
    "    print(\"confusion matrix\")\n",
    "    cfm = confusion_matrix(y_test,y_pred)\n",
    "    print(cfm)\n",
    "    \n",
    "    # Create and print confusion matrix\n",
    "    print(\"ROC curve\")\n",
    "    compute_roc(y_test, y_pred, plot=True)\n",
    "    \n",
    "    # Get Cross Validation and Confusion matrix on the test dataset\n",
    "    evaluation(model, x_test, y_test)\n",
    "    return "
   ]
  },
  {
   "cell_type": "code",
   "execution_count": 113,
   "metadata": {},
   "outputs": [
    {
     "name": "stdout",
     "output_type": "stream",
     "text": [
      "LogisticRegression\n",
      "LogisticRegression(C=1.0, class_weight=None, dual=False, fit_intercept=True,\n",
      "                   intercept_scaling=1, l1_ratio=None, max_iter=100,\n",
      "                   multi_class='warn', n_jobs=None, penalty='l2',\n",
      "                   random_state=None, solver='warn', tol=0.0001, verbose=0,\n",
      "                   warm_start=False) \n",
      "\n",
      "              precision    recall  f1-score   support\n",
      "\n",
      "           0       0.57      0.49      0.53        74\n",
      "           1       0.80      0.85      0.82       176\n",
      "\n",
      "    accuracy                           0.74       250\n",
      "   macro avg       0.68      0.67      0.67       250\n",
      "weighted avg       0.73      0.74      0.73       250\n",
      "\n",
      "confusion matrix\n",
      "[[ 36  38]\n",
      " [ 27 149]]\n",
      "ROC curve\n"
     ]
    },
    {
     "name": "stderr",
     "output_type": "stream",
     "text": [
      "C:\\ProgramData\\Anaconda3\\lib\\site-packages\\sklearn\\linear_model\\logistic.py:432: FutureWarning: Default solver will be changed to 'lbfgs' in 0.22. Specify a solver to silence this warning.\n",
      "  FutureWarning)\n"
     ]
    },
    {
     "data": {
      "image/png": "[encoded data removed]",
      "text/plain": [
       "<Figure size 504x432 with 1 Axes>"
      ]
     },
     "metadata": {
      "needs_background": "light"
     },
     "output_type": "display_data"
    },
    {
     "name": "stdout",
     "output_type": "stream",
     "text": [
      "Cross Validation Accuracy: 0.72 (+/- 0.02)\n",
      "Cross Validation Precision: 0.80 (+/- 0.01)\n",
      "Cross Validation Recall: 0.80 (+/- 0.01)\n",
      "Cross Validation roc_auc: 0.74 (+/- 0.05)\n"
     ]
    },
    {
     "name": "stderr",
     "output_type": "stream",
     "text": [
      "C:\\ProgramData\\Anaconda3\\lib\\site-packages\\sklearn\\linear_model\\logistic.py:432: FutureWarning: Default solver will be changed to 'lbfgs' in 0.22. Specify a solver to silence this warning.\n",
      "  FutureWarning)\n",
      "C:\\ProgramData\\Anaconda3\\lib\\site-packages\\sklearn\\linear_model\\logistic.py:432: FutureWarning: Default solver will be changed to 'lbfgs' in 0.22. Specify a solver to silence this warning.\n",
      "  FutureWarning)\n",
      "C:\\ProgramData\\Anaconda3\\lib\\site-packages\\sklearn\\linear_model\\logistic.py:432: FutureWarning: Default solver will be changed to 'lbfgs' in 0.22. Specify a solver to silence this warning.\n",
      "  FutureWarning)\n",
      "C:\\ProgramData\\Anaconda3\\lib\\site-packages\\sklearn\\linear_model\\logistic.py:432: FutureWarning: Default solver will be changed to 'lbfgs' in 0.22. Specify a solver to silence this warning.\n",
      "  FutureWarning)\n",
      "C:\\ProgramData\\Anaconda3\\lib\\site-packages\\sklearn\\linear_model\\logistic.py:432: FutureWarning: Default solver will be changed to 'lbfgs' in 0.22. Specify a solver to silence this warning.\n",
      "  FutureWarning)\n",
      "C:\\ProgramData\\Anaconda3\\lib\\site-packages\\sklearn\\linear_model\\logistic.py:432: FutureWarning: Default solver will be changed to 'lbfgs' in 0.22. Specify a solver to silence this warning.\n",
      "  FutureWarning)\n",
      "C:\\ProgramData\\Anaconda3\\lib\\site-packages\\sklearn\\linear_model\\logistic.py:432: FutureWarning: Default solver will be changed to 'lbfgs' in 0.22. Specify a solver to silence this warning.\n",
      "  FutureWarning)\n",
      "C:\\ProgramData\\Anaconda3\\lib\\site-packages\\sklearn\\linear_model\\logistic.py:432: FutureWarning: Default solver will be changed to 'lbfgs' in 0.22. Specify a solver to silence this warning.\n",
      "  FutureWarning)\n"
     ]
    }
   ],
   "source": [
    "# Logistic Regression\n",
    "logreg(x_train, y_train,x_test,y_test)"
   ]
  },
  {
   "cell_type": "markdown",
   "metadata": {},
   "source": [
    "# Tunning Hyperparameters with Gridsearch"
   ]
  },
  {
   "cell_type": "code",
   "execution_count": 72,
   "metadata": {},
   "outputs": [
    {
     "name": "stderr",
     "output_type": "stream",
     "text": [
      "C:\\ProgramData\\Anaconda3\\lib\\site-packages\\sklearn\\model_selection\\_split.py:1978: FutureWarning: The default value of cv will change from 3 to 5 in version 0.22. Specify it explicitly to silence this warning.\n",
      "  warnings.warn(CV_WARNING, FutureWarning)\n"
     ]
    }
   ],
   "source": [
    "print('MLP with grid search')\n",
    "# Model creation with keras wrapper\n",
    "estimator = KerasClassifier(build_fn=mlp_model,verbose=0)\n",
    "\n",
    "# grid search epochs, batch size, learning_rate, initialiazer\n",
    "batches = [100]\n",
    "lr = [ 0.01, 0.001]\n",
    "init = ['normal', 'uniform','glorot_uniform']\n",
    "epochs = [10, 15]\n",
    "param_grid = dict(epochs=epochs, learning_rate=lr, batch_size = batches, init = init)\n",
    "grid = GridSearchCV(estimator, param_grid=param_grid,\n",
    "                    return_train_score=False,\n",
    "                    scoring=['accuracy', 'roc_auc'],\n",
    "                    refit= 'accuracy')\n",
    "\n",
    "grid_result = grid.fit(x_train, y_train)"
   ]
  },
  {
   "cell_type": "code",
   "execution_count": 73,
   "metadata": {},
   "outputs": [
    {
     "name": "stdout",
     "output_type": "stream",
     "text": [
      "Best: 0.698667 using {'batch_size': 100, 'epochs': 10, 'init': 'uniform', 'learning_rate': 0.01}\n",
      "0.586305 (0.066845) with: {'batch_size': 100, 'epochs': 10, 'init': 'normal', 'learning_rate': 0.01}\n",
      "0.570448 (0.043446) with: {'batch_size': 100, 'epochs': 10, 'init': 'normal', 'learning_rate': 0.001}\n",
      "0.474582 (0.008924) with: {'batch_size': 100, 'epochs': 10, 'init': 'uniform', 'learning_rate': 0.01}\n",
      "0.578466 (0.052316) with: {'batch_size': 100, 'epochs': 10, 'init': 'uniform', 'learning_rate': 0.001}\n",
      "0.592305 (0.082950) with: {'batch_size': 100, 'epochs': 10, 'init': 'glorot_uniform', 'learning_rate': 0.01}\n",
      "0.528225 (0.037168) with: {'batch_size': 100, 'epochs': 10, 'init': 'glorot_uniform', 'learning_rate': 0.001}\n",
      "0.626984 (0.048101) with: {'batch_size': 100, 'epochs': 15, 'init': 'normal', 'learning_rate': 0.01}\n",
      "0.605927 (0.012406) with: {'batch_size': 100, 'epochs': 15, 'init': 'normal', 'learning_rate': 0.001}\n",
      "0.487319 (0.021933) with: {'batch_size': 100, 'epochs': 15, 'init': 'uniform', 'learning_rate': 0.01}\n",
      "0.628912 (0.027542) with: {'batch_size': 100, 'epochs': 15, 'init': 'uniform', 'learning_rate': 0.001}\n",
      "0.636896 (0.051906) with: {'batch_size': 100, 'epochs': 15, 'init': 'glorot_uniform', 'learning_rate': 0.01}\n",
      "0.525234 (0.086083) with: {'batch_size': 100, 'epochs': 15, 'init': 'glorot_uniform', 'learning_rate': 0.001}\n"
     ]
    }
   ],
   "source": [
    "# summarize results\n",
    "print(\"Best: %f using %s\" % (grid_result.best_score_, grid_result.best_params_))\n",
    "means = grid_result.cv_results_['mean_test_roc_auc']\n",
    "stds = grid_result.cv_results_['std_test_roc_auc']\n",
    "params = grid_result.cv_results_['params']\n",
    "for mean, stdev, param in zip(means, stds, params):\n",
    "    print(\"%f (%f) with: %r\" % (mean, stdev, param))"
   ]
  },
  {
   "cell_type": "code",
   "execution_count": 79,
   "metadata": {},
   "outputs": [
    {
     "name": "stdout",
     "output_type": "stream",
     "text": [
      "XGBoost with grid search\n",
      "XGBClassifier(base_score=0.5, booster=None, colsample_bylevel=1,\n",
      "              colsample_bynode=1, colsample_bytree=1, gamma=0, gpu_id=-1,\n",
      "              importance_type='gain', interaction_constraints=None,\n",
      "              learning_rate=0.01, max_delta_step=0, max_depth=3,\n",
      "              min_child_weight=1, missing=nan, monotone_constraints=None,\n",
      "              n_estimators=500, n_jobs=0, num_parallel_tree=1,\n",
      "              objective='binary:logistic', random_state=0, reg_alpha=0,\n",
      "              reg_lambda=1, scale_pos_weight=1, subsample=1, tree_method=None,\n",
      "              validate_parameters=False, verbosity=None)\n",
      "0.7710008106464905\n",
      "Roc AUC with test data of Gridsearch best estimator\n",
      "0.7645116707616708\n",
      "Cross validation of Gridsearch best estimator\n",
      "Cross Validation Accuracy: 0.73 (+/- 0.00)\n",
      "Cross Validation Precision: 0.78 (+/- 0.01)\n",
      "Cross Validation Recall: 0.85 (+/- 0.01)\n",
      "Cross Validation roc_auc: 0.76 (+/- 0.04)\n"
     ]
    }
   ],
   "source": [
    "print('XGBoost with grid search')\n",
    "params={\n",
    "    'learning_rate': [0.01, 0.02],\n",
    "    'max_depth': [3],\n",
    "    #'subsample': [0.6]\n",
    "    #'colsample_bytree': [0.5],\n",
    "    'n_estimators': [50, 100, 200, 300, 400, 500]\n",
    "    #'reg_alpha': [0.03] #[0.01, 0.02, 0.03, 0.04]\n",
    "}\n",
    "\n",
    "\n",
    "estimator = xgb.XGBClassifier()\n",
    "\n",
    "grid_xgb = GridSearchCV(estimator,\n",
    "                  params,\n",
    "                  cv=2,\n",
    "                  scoring=\"roc_auc\",\n",
    "                  n_jobs=1,\n",
    "                  verbose=False)\n",
    "grid_xgb.fit(x_train, y_train)\n",
    "best_est = grid_xgb.best_estimator_\n",
    "print(best_est)\n",
    "print(grid_xgb.best_score_)\n",
    "\n",
    "print('Cross validation of Gridsearch best estimator')\n",
    "evaluation(best_est,x_test,y_test)"
   ]
  },
  {
   "cell_type": "markdown",
   "metadata": {},
   "source": [
    "# Model implementation"
   ]
  },
  {
   "cell_type": "code",
   "execution_count": 106,
   "metadata": {},
   "outputs": [
    {
     "name": "stdout",
     "output_type": "stream",
     "text": [
      "LogisticRegression\n",
      "LogisticRegression(C=1.0, class_weight=None, dual=False, fit_intercept=True,\n",
      "                   intercept_scaling=1, l1_ratio=None, max_iter=100,\n",
      "                   multi_class='warn', n_jobs=None, penalty='l2',\n",
      "                   random_state=None, solver='warn', tol=0.0001, verbose=0,\n",
      "                   warm_start=False) \n",
      "\n",
      "[[ 36  38]\n",
      " [ 27 149]]\n",
      "              precision    recall  f1-score   support\n",
      "\n",
      "           0       0.57      0.49      0.53        74\n",
      "           1       0.80      0.85      0.82       176\n",
      "\n",
      "    accuracy                           0.74       250\n",
      "   macro avg       0.68      0.67      0.67       250\n",
      "weighted avg       0.73      0.74      0.73       250\n",
      "\n",
      "Cross Validation Accuracy: 0.72 (+/- 0.02)\n",
      "Cross Validation Precision: 0.80 (+/- 0.01)\n",
      "Cross Validation Recall: 0.80 (+/- 0.01)\n",
      "Cross Validation roc_auc: 0.74 (+/- 0.05)\n"
     ]
    },
    {
     "name": "stderr",
     "output_type": "stream",
     "text": [
      "C:\\ProgramData\\Anaconda3\\lib\\site-packages\\sklearn\\linear_model\\logistic.py:432: FutureWarning: Default solver will be changed to 'lbfgs' in 0.22. Specify a solver to silence this warning.\n",
      "  FutureWarning)\n",
      "C:\\ProgramData\\Anaconda3\\lib\\site-packages\\sklearn\\linear_model\\logistic.py:432: FutureWarning: Default solver will be changed to 'lbfgs' in 0.22. Specify a solver to silence this warning.\n",
      "  FutureWarning)\n",
      "C:\\ProgramData\\Anaconda3\\lib\\site-packages\\sklearn\\linear_model\\logistic.py:432: FutureWarning: Default solver will be changed to 'lbfgs' in 0.22. Specify a solver to silence this warning.\n",
      "  FutureWarning)\n",
      "C:\\ProgramData\\Anaconda3\\lib\\site-packages\\sklearn\\linear_model\\logistic.py:432: FutureWarning: Default solver will be changed to 'lbfgs' in 0.22. Specify a solver to silence this warning.\n",
      "  FutureWarning)\n",
      "C:\\ProgramData\\Anaconda3\\lib\\site-packages\\sklearn\\linear_model\\logistic.py:432: FutureWarning: Default solver will be changed to 'lbfgs' in 0.22. Specify a solver to silence this warning.\n",
      "  FutureWarning)\n",
      "C:\\ProgramData\\Anaconda3\\lib\\site-packages\\sklearn\\linear_model\\logistic.py:432: FutureWarning: Default solver will be changed to 'lbfgs' in 0.22. Specify a solver to silence this warning.\n",
      "  FutureWarning)\n",
      "C:\\ProgramData\\Anaconda3\\lib\\site-packages\\sklearn\\linear_model\\logistic.py:432: FutureWarning: Default solver will be changed to 'lbfgs' in 0.22. Specify a solver to silence this warning.\n",
      "  FutureWarning)\n",
      "C:\\ProgramData\\Anaconda3\\lib\\site-packages\\sklearn\\linear_model\\logistic.py:432: FutureWarning: Default solver will be changed to 'lbfgs' in 0.22. Specify a solver to silence this warning.\n",
      "  FutureWarning)\n",
      "C:\\ProgramData\\Anaconda3\\lib\\site-packages\\sklearn\\linear_model\\logistic.py:432: FutureWarning: Default solver will be changed to 'lbfgs' in 0.22. Specify a solver to silence this warning.\n",
      "  FutureWarning)\n"
     ]
    }
   ],
   "source": [
    "# Logistic Regression implmentation\n",
    "logreg(x_train, y_train,x_test,y_test)"
   ]
  },
  {
   "cell_type": "code",
   "execution_count": 70,
   "metadata": {
    "scrolled": true
   },
   "outputs": [
    {
     "name": "stdout",
     "output_type": "stream",
     "text": [
      "Scorer: {'accuracy': make_scorer(accuracy_score), 'roc_auc': make_scorer(roc_auc_score, needs_threshold=True)}\n",
      "Best_score: 0.70533\n",
      "Score on the test set: 0.70400\n",
      "Cross validation of Gridsearch best estimator\n",
      "Cross Validation Accuracy: 0.56 (+/- 0.11)\n",
      "Cross Validation Precision: 0.38 (+/- 0.38)\n",
      "Cross Validation Recall: 1.00 (+/- 0.00)\n",
      "Cross Validation roc_auc: 0.44 (+/- 0.09)\n"
     ]
    }
   ],
   "source": [
    "#MLP implementation \n",
    "\n",
    "best_pipe = grid_result.best_estimator_\n",
    "print('Scorer:' , grid_result.scorer_)\n",
    "print('Best_score: %.5f' % grid_result.best_score_)\n",
    "#y_pred = best_pipe.predict(x_test)\n",
    "#print(y_pred)\n",
    "score = best_pipe.score(x_test, y_test)\n",
    "print('Score on the test set: %.5f' % score)\n",
    "\n",
    "print('Cross validation of Gridsearch best estimator')\n",
    "evaluation(best_pipe,x_test,y_test)"
   ]
  },
  {
   "cell_type": "code",
   "execution_count": 115,
   "metadata": {},
   "outputs": [
    {
     "name": "stdout",
     "output_type": "stream",
     "text": [
      "XGBoost v 1.0.2\n",
      "[0]\tvalidation_0-auc:0.82772\tvalidation_1-auc:0.73772\n",
      "Multiple eval metrics have been passed: 'validation_1-auc' will be used for early stopping.\n",
      "\n",
      "Will train until validation_1-auc hasn't improved in 100 rounds.\n",
      "[99]\tvalidation_0-auc:1.00000\tvalidation_1-auc:0.73833\n",
      "5\n",
      "XGBClassifier(base_score=0.5, booster=None, colsample_bylevel=1,\n",
      "              colsample_bynode=1, colsample_bytree=1, gamma=0, gpu_id=-1,\n",
      "              importance_type='gain', interaction_constraints=None,\n",
      "              learning_rate=0.300000012, max_delta_step=0, max_depth=6,\n",
      "              min_child_weight=1, missing=nan, monotone_constraints=None,\n",
      "              n_estimators=5, n_jobs=0, num_parallel_tree=1,\n",
      "              objective='binary:logistic', random_state=0, reg_alpha=0,\n",
      "              reg_lambda=1, scale_pos_weight=1, subsample=1, tree_method=None,\n",
      "              validate_parameters=False, verbosity=None) \n",
      "\n",
      "[0 1 1 1 1 1 0 1 1 0 0 0 1 1 0 1 1 1 1 1 0 0 0 1 1 0 1 1 1 0 1 1 1 1 1 1 1\n",
      " 1 0 1 1 1 1 1 1 0 1 0 1 1 1 0 1 1 0 1 0 1 1 1 0 1 0 1 1 1 1 1 1 1 1 1 0 0\n",
      " 0 1 1 1 1 1 0 1 1 1 1 1 1 0 1 1 1 1 1 1 1 1 1 1 0 1 1 1 1 1 1 1 0 0 0 1 1\n",
      " 0 0 1 1 1 0 1 1 1 1 1 1 0 1 1 1 1 1 1 0 0 0 1 1 0 1 1 1 0 0 0 1 1 1 1 1 0\n",
      " 1 1 1 1 1 1 1 1 1 1 1 1 1 1 1 1 0 0 0 1 1 0 1 1 0 1 1 0 0 1 1 1 1 0 1 0 1\n",
      " 1 1 1 1 1 1 0 1 1 1 1 0 1 1 1 1 0 0 0 1 1 0 1 1 1 1 1 1 1 1 1 1 1 1 1 0 1\n",
      " 1 1 1 1 1 0 0 1 1 1 1 1 0 0 1 1 1 0 1 1 1 1 1 1 1 1 1 1]\n",
      "Cross Validation Accuracy: 0.73 (+/- 0.01)\n",
      "Cross Validation Precision: 0.78 (+/- 0.01)\n",
      "Cross Validation Recall: 0.86 (+/- 0.00)\n",
      "Cross Validation roc_auc: 0.74 (+/- 0.02)\n",
      "[[ 37  37]\n",
      " [ 24 152]]\n",
      "              precision    recall  f1-score   support\n",
      "\n",
      "           0       0.61      0.50      0.55        74\n",
      "           1       0.80      0.86      0.83       176\n",
      "\n",
      "    accuracy                           0.76       250\n",
      "   macro avg       0.71      0.68      0.69       250\n",
      "weighted avg       0.75      0.76      0.75       250\n",
      "\n",
      "\n",
      "\n",
      "XGBoost model Accuracy: 0.756000\n",
      "ROC curve\n"
     ]
    },
    {
     "data": {
      "image/png": "[encoded data removed]",
      "text/plain": [
       "<Figure size 504x432 with 1 Axes>"
      ]
     },
     "metadata": {
      "needs_background": "light"
     },
     "output_type": "display_data"
    },
    {
     "data": {
      "text/plain": [
       "XGBClassifier(base_score=0.5, booster=None, colsample_bylevel=1,\n",
       "              colsample_bynode=1, colsample_bytree=1, gamma=0, gpu_id=-1,\n",
       "              importance_type='gain', interaction_constraints=None,\n",
       "              learning_rate=0.300000012, max_delta_step=0, max_depth=6,\n",
       "              min_child_weight=1, missing=nan, monotone_constraints=None,\n",
       "              n_estimators=5, n_jobs=0, num_parallel_tree=1,\n",
       "              objective='binary:logistic', random_state=0, reg_alpha=0,\n",
       "              reg_lambda=1, scale_pos_weight=1, subsample=1, tree_method=None,\n",
       "              validate_parameters=False, verbosity=None)"
      ]
     },
     "execution_count": 115,
     "metadata": {},
     "output_type": "execute_result"
    }
   ],
   "source": [
    "#Xgboost implementation \n",
    "#Baseline model\n",
    "params={}\n",
    "xgboost(params, x_train, y_train, x_test, y_test)"
   ]
  },
  {
   "cell_type": "code",
   "execution_count": 55,
   "metadata": {},
   "outputs": [
    {
     "name": "stdout",
     "output_type": "stream",
     "text": [
      "[0]\ttest-error:0.31200\ttrain-error:0.27067\n",
      "[1]\ttest-error:0.29200\ttrain-error:0.24133\n",
      "[2]\ttest-error:0.30400\ttrain-error:0.25733\n",
      "[3]\ttest-error:0.30400\ttrain-error:0.25467\n",
      "[4]\ttest-error:0.26400\ttrain-error:0.22933\n",
      "[5]\ttest-error:0.25600\ttrain-error:0.21467\n",
      "[6]\ttest-error:0.24400\ttrain-error:0.22133\n",
      "[7]\ttest-error:0.26000\ttrain-error:0.22267\n",
      "[8]\ttest-error:0.24800\ttrain-error:0.21333\n",
      "[9]\ttest-error:0.24800\ttrain-error:0.20800\n",
      "[10]\ttest-error:0.24000\ttrain-error:0.20800\n",
      "[11]\ttest-error:0.24800\ttrain-error:0.21200\n",
      "[12]\ttest-error:0.25200\ttrain-error:0.20933\n",
      "[13]\ttest-error:0.25200\ttrain-error:0.20533\n",
      "[14]\ttest-error:0.25200\ttrain-error:0.20400\n",
      "[15]\ttest-error:0.24400\ttrain-error:0.20267\n",
      "[16]\ttest-error:0.24000\ttrain-error:0.20533\n",
      "[17]\ttest-error:0.24000\ttrain-error:0.20000\n",
      "[18]\ttest-error:0.23600\ttrain-error:0.19067\n",
      "[19]\ttest-error:0.23600\ttrain-error:0.18933\n",
      "[20]\ttest-error:0.23600\ttrain-error:0.18933\n",
      "[21]\ttest-error:0.22800\ttrain-error:0.18533\n",
      "[22]\ttest-error:0.23200\ttrain-error:0.18533\n",
      "[23]\ttest-error:0.23200\ttrain-error:0.18667\n",
      "[24]\ttest-error:0.23600\ttrain-error:0.18267\n",
      "[25]\ttest-error:0.22800\ttrain-error:0.18000\n",
      "[26]\ttest-error:0.23200\ttrain-error:0.18000\n",
      "[27]\ttest-error:0.22000\ttrain-error:0.17467\n",
      "[28]\ttest-error:0.22000\ttrain-error:0.17600\n",
      "[29]\ttest-error:0.22400\ttrain-error:0.17200\n",
      "[30]\ttest-error:0.22000\ttrain-error:0.17067\n",
      "[31]\ttest-error:0.22400\ttrain-error:0.17067\n",
      "[32]\ttest-error:0.22800\ttrain-error:0.16800\n",
      "[33]\ttest-error:0.23200\ttrain-error:0.16533\n",
      "[34]\ttest-error:0.22800\ttrain-error:0.16400\n",
      "[35]\ttest-error:0.22800\ttrain-error:0.16000\n",
      "[36]\ttest-error:0.22800\ttrain-error:0.15867\n",
      "[37]\ttest-error:0.22800\ttrain-error:0.15733\n",
      "[38]\ttest-error:0.22800\ttrain-error:0.14800\n",
      "[39]\ttest-error:0.22800\ttrain-error:0.14800\n",
      "[40]\ttest-error:0.23200\ttrain-error:0.14267\n",
      "[41]\ttest-error:0.23200\ttrain-error:0.14133\n",
      "[42]\ttest-error:0.22800\ttrain-error:0.14667\n",
      "[43]\ttest-error:0.23200\ttrain-error:0.14000\n",
      "[44]\ttest-error:0.23200\ttrain-error:0.13600\n",
      "[45]\ttest-error:0.22800\ttrain-error:0.14267\n",
      "[46]\ttest-error:0.23600\ttrain-error:0.13867\n",
      "[47]\ttest-error:0.23600\ttrain-error:0.13867\n",
      "[48]\ttest-error:0.23200\ttrain-error:0.13600\n",
      "[49]\ttest-error:0.22400\ttrain-error:0.13333\n"
     ]
    }
   ],
   "source": [
    "# Train xgboost\n",
    "dtrain = xgb.DMatrix(x_train, y_train)\n",
    "dtest = xgb.DMatrix(x_test, y_test)\n",
    "param = {'max_depth' : 3, 'eta' : 0.1, 'objective' : 'binary:logistic', 'seed' : 42}\n",
    "num_round = 50\n",
    "bst = xgb.train(param, dtrain, num_round, [(dtest, 'test'), (dtrain, 'train')])"
   ]
  },
  {
   "cell_type": "code",
   "execution_count": 56,
   "metadata": {},
   "outputs": [
    {
     "name": "stdout",
     "output_type": "stream",
     "text": [
      "0.776 0.22399999999999998\n"
     ]
    }
   ],
   "source": [
    "preds = bst.predict(dtest)\n",
    "preds[preds > 0.5] = 1\n",
    "preds[preds <= 0.5] = 0\n",
    "print(accuracy_score(preds, y_test), 1 - accuracy_score(preds, y_test))"
   ]
  }
 ],
 "metadata": {
  "kernelspec": {
   "display_name": "Python 3",
   "language": "python",
   "name": "python3"
  },
  "language_info": {
   "codemirror_mode": {
    "name": "ipython",
    "version": 3
   },
   "file_extension": ".py",
   "mimetype": "text/x-python",
   "name": "python",
   "nbconvert_exporter": "python",
   "pygments_lexer": "ipython3",
   "version": "3.7.4"
  }
 },
 "nbformat": 4,
 "nbformat_minor": 2
}
